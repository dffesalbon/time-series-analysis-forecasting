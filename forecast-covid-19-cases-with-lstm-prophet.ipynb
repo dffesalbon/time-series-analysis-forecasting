{
 "cells": [
  {
   "cell_type": "markdown",
   "id": "df8dc957",
   "metadata": {
    "papermill": {
     "duration": 0.038762,
     "end_time": "2022-06-17T07:47:05.487862",
     "exception": false,
     "start_time": "2022-06-17T07:47:05.449100",
     "status": "completed"
    },
    "tags": []
   },
   "source": [
    "<img src=\"https://www.fda.gov/files/Coronavirus_3D_illustration_by_CDC_1600x900.png\">"
   ]
  },
  {
   "cell_type": "markdown",
   "id": "32b9d72e",
   "metadata": {
    "papermill": {
     "duration": 0.036766,
     "end_time": "2022-06-17T07:47:05.564574",
     "exception": false,
     "start_time": "2022-06-17T07:47:05.527808",
     "status": "completed"
    },
    "tags": []
   },
   "source": [
    "# 🦠 COVID-19 Forecasting using LSTM and Facebook Prophet"
   ]
  },
  {
   "cell_type": "markdown",
   "id": "d2eb958b",
   "metadata": {
    "papermill": {
     "duration": 0.036576,
     "end_time": "2022-06-17T07:47:05.638148",
     "exception": false,
     "start_time": "2022-06-17T07:47:05.601572",
     "status": "completed"
    },
    "tags": []
   },
   "source": [
    "COVID-19 struck the world starting early 2020. Daily report of new active cases are always on the news and it continuously adding up. In this notebook we will use Long-Short Term Memory neural networks and Facebook Prophet to forecast global confirmed cases daily."
   ]
  },
  {
   "cell_type": "markdown",
   "id": "8836c953",
   "metadata": {
    "papermill": {
     "duration": 0.036477,
     "end_time": "2022-06-17T07:47:05.711532",
     "exception": false,
     "start_time": "2022-06-17T07:47:05.675055",
     "status": "completed"
    },
    "tags": []
   },
   "source": [
    "# Import Libraries"
   ]
  },
  {
   "cell_type": "code",
   "execution_count": 1,
   "id": "a542a529",
   "metadata": {
    "execution": {
     "iopub.execute_input": "2022-06-17T07:47:05.796159Z",
     "iopub.status.busy": "2022-06-17T07:47:05.795077Z",
     "iopub.status.idle": "2022-06-17T07:47:12.841911Z",
     "shell.execute_reply": "2022-06-17T07:47:12.842605Z",
     "shell.execute_reply.started": "2022-06-17T05:59:19.527589Z"
    },
    "papermill": {
     "duration": 7.094703,
     "end_time": "2022-06-17T07:47:12.842954",
     "exception": false,
     "start_time": "2022-06-17T07:47:05.748251",
     "status": "completed"
    },
    "tags": []
   },
   "outputs": [],
   "source": [
    "import warnings\n",
    "warnings.filterwarnings('ignore')\n",
    "import os\n",
    "\n",
    "## For data\n",
    "import pandas as pd\n",
    "import numpy as np\n",
    "## For plotting\n",
    "import matplotlib.pyplot as plt\n",
    "## For Lstm\n",
    "from tensorflow.keras import models, layers, preprocessing as kprocessing\n",
    "## For Prophet\n",
    "from fbprophet import Prophet\n",
    "from sklearn import preprocessing\n",
    "from keras.preprocessing.sequence import TimeseriesGenerator\n",
    "\n",
    "import plotly.graph_objs as go"
   ]
  },
  {
   "cell_type": "markdown",
   "id": "04560831",
   "metadata": {
    "papermill": {
     "duration": 0.036792,
     "end_time": "2022-06-17T07:47:12.916928",
     "exception": false,
     "start_time": "2022-06-17T07:47:12.880136",
     "status": "completed"
    },
    "tags": []
   },
   "source": [
    "# Initialize dataset"
   ]
  },
  {
   "cell_type": "code",
   "execution_count": 2,
   "id": "a8ccbe54",
   "metadata": {
    "execution": {
     "iopub.execute_input": "2022-06-17T07:47:13.000786Z",
     "iopub.status.busy": "2022-06-17T07:47:12.994117Z",
     "iopub.status.idle": "2022-06-17T07:47:13.562970Z",
     "shell.execute_reply": "2022-06-17T07:47:13.563668Z",
     "shell.execute_reply.started": "2022-06-17T05:59:19.546382Z"
    },
    "papermill": {
     "duration": 0.609784,
     "end_time": "2022-06-17T07:47:13.563861",
     "exception": false,
     "start_time": "2022-06-17T07:47:12.954077",
     "status": "completed"
    },
    "tags": []
   },
   "outputs": [
    {
     "data": {
      "text/html": [
       "<div>\n",
       "<style scoped>\n",
       "    .dataframe tbody tr th:only-of-type {\n",
       "        vertical-align: middle;\n",
       "    }\n",
       "\n",
       "    .dataframe tbody tr th {\n",
       "        vertical-align: top;\n",
       "    }\n",
       "\n",
       "    .dataframe thead th {\n",
       "        text-align: right;\n",
       "    }\n",
       "</style>\n",
       "<table border=\"1\" class=\"dataframe\">\n",
       "  <thead>\n",
       "    <tr style=\"text-align: right;\">\n",
       "      <th></th>\n",
       "      <th>Confirmed</th>\n",
       "    </tr>\n",
       "    <tr>\n",
       "      <th>Date</th>\n",
       "      <th></th>\n",
       "    </tr>\n",
       "  </thead>\n",
       "  <tbody>\n",
       "    <tr>\n",
       "      <th>2020-01-22</th>\n",
       "      <td>557.0</td>\n",
       "    </tr>\n",
       "    <tr>\n",
       "      <th>2020-01-23</th>\n",
       "      <td>657.0</td>\n",
       "    </tr>\n",
       "    <tr>\n",
       "      <th>2020-01-24</th>\n",
       "      <td>944.0</td>\n",
       "    </tr>\n",
       "    <tr>\n",
       "      <th>2020-01-25</th>\n",
       "      <td>1437.0</td>\n",
       "    </tr>\n",
       "    <tr>\n",
       "      <th>2020-01-26</th>\n",
       "      <td>2120.0</td>\n",
       "    </tr>\n",
       "  </tbody>\n",
       "</table>\n",
       "</div>"
      ],
      "text/plain": [
       "            Confirmed\n",
       "Date                 \n",
       "2020-01-22      557.0\n",
       "2020-01-23      657.0\n",
       "2020-01-24      944.0\n",
       "2020-01-25     1437.0\n",
       "2020-01-26     2120.0"
      ]
     },
     "execution_count": 2,
     "metadata": {},
     "output_type": "execute_result"
    }
   ],
   "source": [
    "df=pd.read_csv('../input/covid-19-global-reports-early-march-2022/covid_19_clean_complete_2022.csv')\n",
    "df.drop(columns ='Province/State', inplace = True)\n",
    "df['Date'] = pd.to_datetime(df['Date'])\n",
    "df_uni=df.groupby(['Date'])['Confirmed','Deaths','Recovered','Active'].sum()\n",
    "df_uni.isnull().sum()\n",
    "df_uni.drop(columns ='Deaths', inplace = True)\n",
    "df_uni.drop(columns ='Recovered', inplace = True)\n",
    "df_uni.drop(columns ='Active', inplace = True)\n",
    "df_uni['Confirmed'] = df_uni['Confirmed'].astype(float)\n",
    "df_uni2 = df_uni.head(220)\n",
    "df_uni = df_uni.head(188)\n",
    "df_uni.head()"
   ]
  },
  {
   "cell_type": "code",
   "execution_count": 3,
   "id": "d768a2fc",
   "metadata": {
    "execution": {
     "iopub.execute_input": "2022-06-17T07:47:13.642954Z",
     "iopub.status.busy": "2022-06-17T07:47:13.642236Z",
     "iopub.status.idle": "2022-06-17T07:47:13.650358Z",
     "shell.execute_reply": "2022-06-17T07:47:13.650914Z",
     "shell.execute_reply.started": "2022-06-17T05:59:19.943249Z"
    },
    "papermill": {
     "duration": 0.049061,
     "end_time": "2022-06-17T07:47:13.651080",
     "exception": false,
     "start_time": "2022-06-17T07:47:13.602019",
     "status": "completed"
    },
    "tags": []
   },
   "outputs": [
    {
     "data": {
      "text/plain": [
       "Date\n",
       "2020-01-22     557.0\n",
       "2020-01-23     657.0\n",
       "2020-01-24     944.0\n",
       "2020-01-25    1437.0\n",
       "2020-01-26    2120.0\n",
       "Name: cases, dtype: float64"
      ]
     },
     "execution_count": 3,
     "metadata": {},
     "output_type": "execute_result"
    }
   ],
   "source": [
    "ts = df_uni.groupby(\"Date\")[\"Confirmed\"].sum().rename(\"cases\")\n",
    "ts.head()"
   ]
  },
  {
   "cell_type": "code",
   "execution_count": 4,
   "id": "dfdcef80",
   "metadata": {
    "execution": {
     "iopub.execute_input": "2022-06-17T07:47:13.729945Z",
     "iopub.status.busy": "2022-06-17T07:47:13.729115Z",
     "iopub.status.idle": "2022-06-17T07:47:13.995613Z",
     "shell.execute_reply": "2022-06-17T07:47:13.994969Z",
     "shell.execute_reply.started": "2022-06-17T05:59:19.956626Z"
    },
    "papermill": {
     "duration": 0.306752,
     "end_time": "2022-06-17T07:47:13.995786",
     "exception": false,
     "start_time": "2022-06-17T07:47:13.689034",
     "status": "completed"
    },
    "tags": []
   },
   "outputs": [
    {
     "data": {
      "image/png": "[encoded data removed]",
      "text/plain": [
       "<Figure size 432x288 with 1 Axes>"
      ]
     },
     "metadata": {
      "needs_background": "light"
     },
     "output_type": "display_data"
    }
   ],
   "source": [
    "dates = df_uni.index.values\n",
    "counts = df_uni['Confirmed'].to_numpy()\n",
    "timeseries_data = { \n",
    "    'Date': dates, \n",
    "    \n",
    "    'Confirmed': counts\n",
    "}\n",
    "\n",
    "plt.plot(df_uni)\n",
    "\n",
    "# Labelling \n",
    "\n",
    "plt.xlabel(\"Date\")\n",
    "plt.ylabel(\"Case counts\")\n",
    "plt.title(\"Covid-19 cases\")\n",
    "\n",
    "# Display\n",
    "\n",
    "plt.show()"
   ]
  },
  {
   "cell_type": "markdown",
   "id": "f1cb2b01",
   "metadata": {
    "papermill": {
     "duration": 0.038985,
     "end_time": "2022-06-17T07:47:14.075564",
     "exception": false,
     "start_time": "2022-06-17T07:47:14.036579",
     "status": "completed"
    },
    "tags": []
   },
   "source": [
    "# Pre-processing"
   ]
  },
  {
   "cell_type": "code",
   "execution_count": 5,
   "id": "bb33fca2",
   "metadata": {
    "execution": {
     "iopub.execute_input": "2022-06-17T07:47:14.162823Z",
     "iopub.status.busy": "2022-06-17T07:47:14.162094Z",
     "iopub.status.idle": "2022-06-17T07:47:14.164886Z",
     "shell.execute_reply": "2022-06-17T07:47:14.164323Z",
     "shell.execute_reply.started": "2022-06-17T05:59:20.186608Z"
    },
    "papermill": {
     "duration": 0.050642,
     "end_time": "2022-06-17T07:47:14.165035",
     "exception": false,
     "start_time": "2022-06-17T07:47:14.114393",
     "status": "completed"
    },
    "tags": []
   },
   "outputs": [],
   "source": [
    "def split_train_test(ts, test=0.20, plot=True, figsize=(15,5)):\n",
    "    ## define splitting point\n",
    "    if type(test) is float:\n",
    "        split = int(len(ts)*(1-test))\n",
    "        perc = test\n",
    "    elif type(test) is str:\n",
    "        split = ts.reset_index()[ \n",
    "                      ts.reset_index().iloc[:,0]==test].index[0]\n",
    "        perc = round(len(ts[split:])/len(ts), 2)\n",
    "    else:\n",
    "        split = test\n",
    "        perc = round(len(ts[split:])/len(ts), 2)\n",
    "    print(\"--- splitting at index: \", split, \"|\", \n",
    "          ts.index[split], \"| test size:\", perc, \" ---\")\n",
    "    \n",
    "    ## split ts\n",
    "    ts_train = ts.head(split)\n",
    "    ts_test = ts.tail(len(ts)-split)\n",
    "        \n",
    "    return ts_train, ts_test"
   ]
  },
  {
   "cell_type": "markdown",
   "id": "6eda3eb7",
   "metadata": {
    "papermill": {
     "duration": 0.037808,
     "end_time": "2022-06-17T07:47:14.241987",
     "exception": false,
     "start_time": "2022-06-17T07:47:14.204179",
     "status": "completed"
    },
    "tags": []
   },
   "source": [
    "Evaluation Metric Function"
   ]
  },
  {
   "cell_type": "code",
   "execution_count": 6,
   "id": "4214d0a1",
   "metadata": {
    "execution": {
     "iopub.execute_input": "2022-06-17T07:47:14.321987Z",
     "iopub.status.busy": "2022-06-17T07:47:14.321256Z",
     "iopub.status.idle": "2022-06-17T07:47:14.343236Z",
     "shell.execute_reply": "2022-06-17T07:47:14.343812Z",
     "shell.execute_reply.started": "2022-06-17T05:59:20.198814Z"
    },
    "papermill": {
     "duration": 0.063535,
     "end_time": "2022-06-17T07:47:14.344019",
     "exception": false,
     "start_time": "2022-06-17T07:47:14.280484",
     "status": "completed"
    },
    "tags": []
   },
   "outputs": [],
   "source": [
    "'''\n",
    "Evaluation metrics for predictions.\n",
    ":parameter\n",
    "    :param dtf: DataFrame with columns raw values, fitted training  \n",
    "                 values, predicted test values\n",
    ":return\n",
    "    dataframe with raw ts and forecast\n",
    "'''\n",
    "def utils_evaluate_forecast(dtf, title, plot=True, figsize=(20,13)):\n",
    "    try:\n",
    "        ## residuals\n",
    "        dtf[\"residuals\"] = dtf[\"ts\"] - dtf[\"model\"]\n",
    "        dtf[\"error\"] = dtf[\"ts\"] - dtf[\"forecast\"]\n",
    "        dtf[\"error_pct\"] = dtf[\"error\"] / dtf[\"ts\"]\n",
    "        \n",
    "        ## kpi\n",
    "        residuals_mean = dtf[\"residuals\"].mean()\n",
    "        residuals_std = dtf[\"residuals\"].std()\n",
    "        error_mean = dtf[\"error\"].mean()\n",
    "        error_std = dtf[\"error\"].std()\n",
    "        mae = dtf[\"error\"].apply(lambda x: np.abs(x)).mean()\n",
    "        mape = dtf[\"error_pct\"].apply(lambda x: np.abs(x)).mean()  \n",
    "        mse = dtf[\"error\"].apply(lambda x: x**2).mean()\n",
    "        rmse = np.sqrt(mse)  #root mean squared error\n",
    "        \n",
    "        ## intervals\n",
    "        dtf[\"conf_int_low\"] = dtf[\"forecast\"] - 1.96*residuals_std\n",
    "        dtf[\"conf_int_up\"] = dtf[\"forecast\"] + 1.96*residuals_std\n",
    "        dtf[\"pred_int_low\"] = dtf[\"forecast\"] - 1.96*error_std\n",
    "        dtf[\"pred_int_up\"] = dtf[\"forecast\"] + 1.96*error_std\n",
    "        \n",
    "        ## plot\n",
    "        if plot==True:\n",
    "            fig = plt.figure(figsize=figsize)\n",
    "            fig.suptitle(title, fontsize=20)   \n",
    "            ax1 = fig.add_subplot(2,2, 1)\n",
    "            ax2 = fig.add_subplot(2,2, 2, sharey=ax1)\n",
    "            ax3 = fig.add_subplot(2,2, 3)\n",
    "            ax4 = fig.add_subplot(2,2, 4)\n",
    "            ### training\n",
    "            dtf[pd.notnull(dtf[\"model\"])][[\"ts\",\"model\"]].plot(color=[\"black\",\"green\"], title=\"Model\", grid=True, ax=ax1)      \n",
    "            ax1.set(xlabel=None)\n",
    "            ### test\n",
    "            dtf[pd.isnull(dtf[\"model\"])][[\"ts\",\"forecast\"]].plot(color=[\"black\",\"red\"], title=\"Forecast\", grid=True, ax=ax2)\n",
    "            ax2.fill_between(x=dtf.index, y1=dtf['pred_int_low'], y2=dtf['pred_int_up'], color='b', alpha=0.2)\n",
    "            ax2.fill_between(x=dtf.index, y1=dtf['conf_int_low'], y2=dtf['conf_int_up'], color='b', alpha=0.3)     \n",
    "            ax2.set(xlabel=None)\n",
    "            ### residuals\n",
    "            dtf[[\"residuals\",\"error\"]].plot(ax=ax3, color=[\"green\",\"red\"], title=\"Residuals\", grid=True)\n",
    "            ax3.set(xlabel=None)\n",
    "            ### residuals distribution\n",
    "            dtf[[\"residuals\",\"error\"]].plot(ax=ax4, color=[\"green\",\"red\"], kind='kde', title=\"Residuals Distribution\", grid=True)\n",
    "            ax4.set(ylabel=None)\n",
    "            plt.show()\n",
    "            print(\"Training --> Residuals mean:\", np.round(residuals_mean), \" | std:\", np.round(residuals_std))\n",
    "            print(\"Test --> Error mean:\", np.round(error_mean), \" | std:\", np.round(error_std),\n",
    "                  \" | mae:\",np.round(mae), \" | mape:\",np.round(mape*100), \"%  | mse:\",np.round(mse), \" | rmse:\",np.round(rmse))\n",
    "        \n",
    "        return dtf[[\"ts\",\"model\",\"residuals\",\"conf_int_low\",\"conf_int_up\", \n",
    "                    \"forecast\",\"error\",\"pred_int_low\",\"pred_int_up\"]]\n",
    "    \n",
    "    except Exception as e:\n",
    "        print(\"--- got error ---\")\n",
    "        print(e)"
   ]
  },
  {
   "cell_type": "markdown",
   "id": "44adf5a0",
   "metadata": {
    "papermill": {
     "duration": 0.037908,
     "end_time": "2022-06-17T07:47:14.421173",
     "exception": false,
     "start_time": "2022-06-17T07:47:14.383265",
     "status": "completed"
    },
    "tags": []
   },
   "source": [
    "Pre-processing functions"
   ]
  },
  {
   "cell_type": "code",
   "execution_count": 7,
   "id": "fd949258",
   "metadata": {
    "execution": {
     "iopub.execute_input": "2022-06-17T07:47:14.500873Z",
     "iopub.status.busy": "2022-06-17T07:47:14.500150Z",
     "iopub.status.idle": "2022-06-17T07:47:14.518357Z",
     "shell.execute_reply": "2022-06-17T07:47:14.519037Z",
     "shell.execute_reply.started": "2022-06-17T05:59:20.223599Z"
    },
    "papermill": {
     "duration": 0.059721,
     "end_time": "2022-06-17T07:47:14.519214",
     "exception": false,
     "start_time": "2022-06-17T07:47:14.459493",
     "status": "completed"
    },
    "tags": []
   },
   "outputs": [],
   "source": [
    "'''\n",
    "Preprocess a ts partitioning into X and y.\n",
    ":parameter\n",
    "    :param ts: pandas timeseries\n",
    "    :param s: num - number of observations per seasonal (ex. 7 for weekly seasonality with daily data, 12 for yearly seasonality with monthly data)\n",
    "    :param scaler: sklearn scaler object - if None is fitted\n",
    "    :param exog: pandas dataframe or numpy array\n",
    ":return\n",
    "    X, y, scaler\n",
    "'''\n",
    "def utils_preprocess_ts(ts, s, scaler=None, exog=None):\n",
    "    ## scale\n",
    "    if scaler is None:\n",
    "        scaler = preprocessing.MinMaxScaler(feature_range=(0,1))\n",
    "    ts_preprocessed = scaler.fit_transform(ts.values.reshape(-1,1)).reshape(-1)        \n",
    "\n",
    "    ## create X,y for train\n",
    "    #ts_preprocessed = kprocessing.sequence.TimeseriesGenerator(data=ts_preprocessed, targets=ts_preprocessed, length=s, batch_size=1)\n",
    "    ts_preprocessed = TimeseriesGenerator(data=ts_preprocessed, targets=ts_preprocessed, length=s, batch_size=1)\n",
    "\n",
    "    lst_X, lst_y = [], []\n",
    "    for i in range(len(ts_preprocessed)):\n",
    "        xi, yi = ts_preprocessed[i]\n",
    "        lst_X.append(xi)\n",
    "        lst_y.append(yi)\n",
    "    X = np.array(lst_X)\n",
    "    y = np.array(lst_y)\n",
    "    return X, y, scaler\n",
    "'''\n",
    "Get fitted values.\n",
    "'''\n",
    "def utils_fitted_lstm(ts, model, scaler, exog=None):\n",
    "    ## scale\n",
    "    ts_preprocessed = scaler.fit_transform(ts.values.reshape(-1,1)).reshape(-1) \n",
    "    \n",
    "    ## create Xy, predict = fitted\n",
    "    s = model.input_shape[-1]\n",
    "    lst_fitted = [np.nan]*s\n",
    "    for i in range(len(ts_preprocessed)):\n",
    "        end_ix = i + s\n",
    "        if end_ix > len(ts_preprocessed)-1:\n",
    "            break\n",
    "        X = ts_preprocessed[i:end_ix]\n",
    "        X = np.array(X)\n",
    "        X = np.reshape(X, (1,1,X.shape[0]))\n",
    "        fit = model.predict(X)\n",
    "        fit = scaler.inverse_transform(fit)[0][0]\n",
    "        lst_fitted.append(fit)\n",
    "    return np.array(lst_fitted)\n",
    "'''\n",
    "Predict ts using previous predictions.\n",
    "'''\n",
    "def utils_predict_lstm(ts, model, scaler, pred_ahead, exog=None):\n",
    "    ## scale\n",
    "    s = model.input_shape[-1]\n",
    "    ts_preprocessed = list(scaler.fit_transform(ts[-s:].values.reshape(-1,1))) \n",
    "    ## predict, append, re-predict\n",
    "    lst_preds = []\n",
    "    for i in range(pred_ahead):\n",
    "        X = np.array(ts_preprocessed[len(ts_preprocessed)-s:])\n",
    "        X = np.reshape(X, (1,1,X.shape[0]))\n",
    "        X = X.astype(np.float)\n",
    "        #print(type(X))\n",
    "        pred = model.predict(X)\n",
    "        ts_preprocessed.append(pred)\n",
    "        pred = scaler.inverse_transform(pred)[0][0]\n",
    "        lst_preds.append(pred)\n",
    "    return np.array(lst_preds)\n",
    "\n",
    "'''\n",
    "Generate dates to index predictions.\n",
    ":parameter\n",
    "    :param start: str - \"yyyy-mm-dd\"\n",
    "    :param end: str - \"yyyy-mm-dd\"\n",
    "    :param n: num - length of index\n",
    "    :param freq: None or str - 'B' business day, 'D' daily, 'W' \n",
    "                 weekly, 'M' monthly, 'A' annual, 'Q' quarterly\n",
    "'''\n",
    "def utils_generate_indexdate(start, end=None, n=None, freq=\"D\"):\n",
    "    if end is not None:\n",
    "        index = pd.date_range(start=start, end=end, freq=freq)\n",
    "    else:\n",
    "        index = pd.date_range(start=start, periods=n, freq=freq)\n",
    "    index = index[1:]\n",
    "    print(\"--- generating index date --> start:\", index[0], \"| end:\", index[-1], \"| len:\", len(index), \"---\")\n",
    "    return index"
   ]
  },
  {
   "cell_type": "markdown",
   "id": "ea0055c3",
   "metadata": {
    "papermill": {
     "duration": 0.038674,
     "end_time": "2022-06-17T07:47:14.597442",
     "exception": false,
     "start_time": "2022-06-17T07:47:14.558768",
     "status": "completed"
    },
    "tags": []
   },
   "source": [
    "Splitting the data"
   ]
  },
  {
   "cell_type": "code",
   "execution_count": 8,
   "id": "8aa7cbe1",
   "metadata": {
    "execution": {
     "iopub.execute_input": "2022-06-17T07:47:14.679180Z",
     "iopub.status.busy": "2022-06-17T07:47:14.678507Z",
     "iopub.status.idle": "2022-06-17T07:47:14.684573Z",
     "shell.execute_reply": "2022-06-17T07:47:14.685154Z",
     "shell.execute_reply.started": "2022-06-17T05:59:20.247179Z"
    },
    "papermill": {
     "duration": 0.049127,
     "end_time": "2022-06-17T07:47:14.685321",
     "exception": false,
     "start_time": "2022-06-17T07:47:14.636194",
     "status": "completed"
    },
    "tags": []
   },
   "outputs": [
    {
     "name": "stdout",
     "output_type": "stream",
     "text": [
      "--- splitting at index:  150 | 2020-06-20 00:00:00 | test size: 0.2  ---\n"
     ]
    }
   ],
   "source": [
    "ts_train, ts_test = split_train_test(ts)"
   ]
  },
  {
   "cell_type": "code",
   "execution_count": 9,
   "id": "54fd5dd2",
   "metadata": {
    "execution": {
     "iopub.execute_input": "2022-06-17T07:47:14.769428Z",
     "iopub.status.busy": "2022-06-17T07:47:14.768753Z",
     "iopub.status.idle": "2022-06-17T07:47:14.782244Z",
     "shell.execute_reply": "2022-06-17T07:47:14.782875Z",
     "shell.execute_reply.started": "2022-06-17T05:59:20.26994Z"
    },
    "papermill": {
     "duration": 0.056978,
     "end_time": "2022-06-17T07:47:14.783044",
     "exception": false,
     "start_time": "2022-06-17T07:47:14.726066",
     "status": "completed"
    },
    "tags": []
   },
   "outputs": [
    {
     "data": {
      "text/html": [
       "<div>\n",
       "<style scoped>\n",
       "    .dataframe tbody tr th:only-of-type {\n",
       "        vertical-align: middle;\n",
       "    }\n",
       "\n",
       "    .dataframe tbody tr th {\n",
       "        vertical-align: top;\n",
       "    }\n",
       "\n",
       "    .dataframe thead th {\n",
       "        text-align: right;\n",
       "    }\n",
       "</style>\n",
       "<table border=\"1\" class=\"dataframe\">\n",
       "  <thead>\n",
       "    <tr style=\"text-align: right;\">\n",
       "      <th></th>\n",
       "      <th>ds</th>\n",
       "      <th>y</th>\n",
       "    </tr>\n",
       "  </thead>\n",
       "  <tbody>\n",
       "    <tr>\n",
       "      <th>0</th>\n",
       "      <td>2020-01-22</td>\n",
       "      <td>557.0</td>\n",
       "    </tr>\n",
       "    <tr>\n",
       "      <th>1</th>\n",
       "      <td>2020-01-23</td>\n",
       "      <td>657.0</td>\n",
       "    </tr>\n",
       "    <tr>\n",
       "      <th>2</th>\n",
       "      <td>2020-01-24</td>\n",
       "      <td>944.0</td>\n",
       "    </tr>\n",
       "    <tr>\n",
       "      <th>3</th>\n",
       "      <td>2020-01-25</td>\n",
       "      <td>1437.0</td>\n",
       "    </tr>\n",
       "    <tr>\n",
       "      <th>4</th>\n",
       "      <td>2020-01-26</td>\n",
       "      <td>2120.0</td>\n",
       "    </tr>\n",
       "  </tbody>\n",
       "</table>\n",
       "</div>"
      ],
      "text/plain": [
       "          ds       y\n",
       "0 2020-01-22   557.0\n",
       "1 2020-01-23   657.0\n",
       "2 2020-01-24   944.0\n",
       "3 2020-01-25  1437.0\n",
       "4 2020-01-26  2120.0"
      ]
     },
     "execution_count": 9,
     "metadata": {},
     "output_type": "execute_result"
    }
   ],
   "source": [
    "dtf_train = ts_train.reset_index().rename(columns={\"Date\":\"ds\", \"cases\":\"y\"})\n",
    "dtf_test = ts_test.reset_index().rename(columns={\"Date\":\"ds\", \"cases\":\"y\"})\n",
    "dtf_test.tail()\n",
    "dtf_train.head()"
   ]
  },
  {
   "cell_type": "markdown",
   "id": "952993a3",
   "metadata": {
    "papermill": {
     "duration": 0.040484,
     "end_time": "2022-06-17T07:47:14.863479",
     "exception": false,
     "start_time": "2022-06-17T07:47:14.822995",
     "status": "completed"
    },
    "tags": []
   },
   "source": [
    "# LSTM"
   ]
  },
  {
   "cell_type": "code",
   "execution_count": 10,
   "id": "7d8fdc03",
   "metadata": {
    "execution": {
     "iopub.execute_input": "2022-06-17T07:47:14.946093Z",
     "iopub.status.busy": "2022-06-17T07:47:14.945418Z",
     "iopub.status.idle": "2022-06-17T07:47:15.181923Z",
     "shell.execute_reply": "2022-06-17T07:47:15.182472Z",
     "shell.execute_reply.started": "2022-06-17T05:59:20.291293Z"
    },
    "papermill": {
     "duration": 0.279498,
     "end_time": "2022-06-17T07:47:15.182689",
     "exception": false,
     "start_time": "2022-06-17T07:47:14.903191",
     "status": "completed"
    },
    "tags": []
   },
   "outputs": [
    {
     "name": "stderr",
     "output_type": "stream",
     "text": [
      "2022-06-17 07:47:14.979505: I tensorflow/core/common_runtime/process_util.cc:146] Creating new thread pool with default inter op setting: 2. Tune using inter_op_parallelism_threads for best performance.\n"
     ]
    }
   ],
   "source": [
    "## Keras models\n",
    "model = models.Sequential()\n",
    "model.add( layers.LSTM(input_shape=(1,3), units=50, \n",
    "           activation='relu', return_sequences=False) )\n",
    "model.add( layers.Dense(1) )\n",
    "model.add( layers.Dropout(0.2) )\n",
    "model.compile(optimizer='adam', loss='mean_absolute_error')"
   ]
  },
  {
   "cell_type": "markdown",
   "id": "d5158a3a",
   "metadata": {
    "papermill": {
     "duration": 0.040348,
     "end_time": "2022-06-17T07:47:15.263750",
     "exception": false,
     "start_time": "2022-06-17T07:47:15.223402",
     "status": "completed"
    },
    "tags": []
   },
   "source": [
    "Fitting and Training"
   ]
  },
  {
   "cell_type": "code",
   "execution_count": 11,
   "id": "4a670994",
   "metadata": {
    "execution": {
     "iopub.execute_input": "2022-06-17T07:47:15.355374Z",
     "iopub.status.busy": "2022-06-17T07:47:15.349439Z",
     "iopub.status.idle": "2022-06-17T07:47:15.362534Z",
     "shell.execute_reply": "2022-06-17T07:47:15.363222Z",
     "shell.execute_reply.started": "2022-06-17T05:59:20.395652Z"
    },
    "papermill": {
     "duration": 0.057748,
     "end_time": "2022-06-17T07:47:15.363414",
     "exception": false,
     "start_time": "2022-06-17T07:47:15.305666",
     "status": "completed"
    },
    "tags": []
   },
   "outputs": [],
   "source": [
    "'''\n",
    "Fit Long short-term memory neural network.\n",
    ":parameter\n",
    "    :param ts: pandas timeseries\n",
    "    :param exog: pandas dataframe or numpy array\n",
    "    :param s: num - number of observations per seasonal (ex. 7 for weekly seasonality with daily data, 12 for yearly seasonality with monthly data)\n",
    ":return\n",
    "    generator, scaler \n",
    "'''\n",
    "def fit_lstm(ts_train, ts_test, model, exog=None, s=20, \n",
    "             figsize=(15,5)):\n",
    "    ## check\n",
    "    print(\"Seasonality: using the last\", s, \"observations to predict the next 1\")\n",
    "    \n",
    "    ## preprocess train\n",
    "    X_train, y_train, scaler = utils_preprocess_ts(ts_train, scaler=None, exog=exog, s=s)\n",
    "    \n",
    "    ## lstm\n",
    "    if model is None:\n",
    "        model = models.Sequential()\n",
    "        model.add( layers.LSTM(input_shape=X_train.shape[1:], units=50, activation='relu', return_sequences=False) )\n",
    "        model.add( layers.Dense(1) )\n",
    "        model.compile(optimizer='adam', loss='mean_absolute_error')\n",
    "    \n",
    "    ## train\n",
    "    print(model.summary())\n",
    "    training = model.fit(x=X_train, y=y_train, batch_size=1, epochs=100, shuffle=True, verbose=0, validation_split=0.3)\n",
    "    \n",
    "    dtf_train = ts_train.to_frame(name=\"ts\")\n",
    "    dtf_train[\"model\"] = utils_fitted_lstm(ts_train, training.model, \n",
    "                                           scaler, exog)\n",
    "    dtf_train[\"model\"] = dtf_train[\"model\"].fillna(method='bfill')\n",
    "    \n",
    "    ## test\n",
    "    preds = utils_predict_lstm(ts_train[-s:], training.model, scaler, pred_ahead=len(ts_test), exog=None)\n",
    "    dtf_test = ts_test.to_frame(name=\"ts\").merge(\n",
    "                       pd.DataFrame(data=preds, index=ts_test.index, \n",
    "                                    columns=[\"forecast\"]),\n",
    "               how='left', left_index=True, right_index=True)\n",
    "    \n",
    "    ## evaluate\n",
    "    dtf = dtf_train.append(dtf_test)\n",
    "    dtf = utils_evaluate_forecast(dtf, figsize=figsize, \n",
    "                                  title=\"LSTM (memory:\"+str(s)+\")\")\n",
    "    return dtf, training.model"
   ]
  },
  {
   "cell_type": "code",
   "execution_count": 12,
   "id": "ad65c725",
   "metadata": {
    "execution": {
     "iopub.execute_input": "2022-06-17T07:47:15.449245Z",
     "iopub.status.busy": "2022-06-17T07:47:15.447996Z",
     "iopub.status.idle": "2022-06-17T07:47:48.203891Z",
     "shell.execute_reply": "2022-06-17T07:47:48.203290Z",
     "shell.execute_reply.started": "2022-06-17T05:59:20.412706Z"
    },
    "papermill": {
     "duration": 32.799989,
     "end_time": "2022-06-17T07:47:48.204039",
     "exception": false,
     "start_time": "2022-06-17T07:47:15.404050",
     "status": "completed"
    },
    "tags": []
   },
   "outputs": [
    {
     "name": "stdout",
     "output_type": "stream",
     "text": [
      "Seasonality: using the last 3 observations to predict the next 1\n",
      "Model: \"sequential\"\n",
      "_________________________________________________________________\n",
      "Layer (type)                 Output Shape              Param #   \n",
      "=================================================================\n",
      "lstm (LSTM)                  (None, 50)                10800     \n",
      "_________________________________________________________________\n",
      "dense (Dense)                (None, 1)                 51        \n",
      "_________________________________________________________________\n",
      "dropout (Dropout)            (None, 1)                 0         \n",
      "=================================================================\n",
      "Total params: 10,851\n",
      "Trainable params: 10,851\n",
      "Non-trainable params: 0\n",
      "_________________________________________________________________\n",
      "None\n"
     ]
    },
    {
     "name": "stderr",
     "output_type": "stream",
     "text": [
      "2022-06-17 07:47:15.510031: I tensorflow/compiler/mlir/mlir_graph_optimization_pass.cc:185] None of the MLIR Optimization Passes are enabled (registered 2)\n"
     ]
    },
    {
     "data": {
      "image/png": "[encoded data removed]",
      "text/plain": [
       "<Figure size 1080x360 with 4 Axes>"
      ]
     },
     "metadata": {
      "needs_background": "light"
     },
     "output_type": "display_data"
    },
    {
     "name": "stdout",
     "output_type": "stream",
     "text": [
      "Training --> Residuals mean: 505993.0  | std: 562022.0\n",
      "Test --> Error mean: 3947000.0  | std: 2360439.0  | mae: 3947000.0  | mape: 30.0 %  | mse: 21003856462871.0  | rmse: 4582996.0\n"
     ]
    }
   ],
   "source": [
    "dtf, model = fit_lstm(ts_train, ts_test, model, s=3)"
   ]
  },
  {
   "cell_type": "markdown",
   "id": "ada18cad",
   "metadata": {
    "papermill": {
     "duration": 0.042545,
     "end_time": "2022-06-17T07:47:48.289760",
     "exception": false,
     "start_time": "2022-06-17T07:47:48.247215",
     "status": "completed"
    },
    "tags": []
   },
   "source": [
    "# Prophet"
   ]
  },
  {
   "cell_type": "code",
   "execution_count": 13,
   "id": "9f4ceadf",
   "metadata": {
    "execution": {
     "iopub.execute_input": "2022-06-17T07:47:48.382034Z",
     "iopub.status.busy": "2022-06-17T07:47:48.381317Z",
     "iopub.status.idle": "2022-06-17T07:47:50.237175Z",
     "shell.execute_reply": "2022-06-17T07:47:50.236509Z",
     "shell.execute_reply.started": "2022-06-17T05:59:56.408629Z"
    },
    "papermill": {
     "duration": 1.904039,
     "end_time": "2022-06-17T07:47:50.237332",
     "exception": false,
     "start_time": "2022-06-17T07:47:48.333293",
     "status": "completed"
    },
    "tags": []
   },
   "outputs": [],
   "source": [
    "model = Prophet(growth=\"linear\", changepoints=None, n_changepoints=25, \n",
    "                seasonality_mode=\"multiplicative\", yearly_seasonality=\"auto\", \n",
    "                weekly_seasonality=\"auto\", daily_seasonality=False, holidays=None)"
   ]
  },
  {
   "cell_type": "markdown",
   "id": "35ac1270",
   "metadata": {
    "papermill": {
     "duration": 0.044054,
     "end_time": "2022-06-17T07:47:50.324967",
     "exception": false,
     "start_time": "2022-06-17T07:47:50.280913",
     "status": "completed"
    },
    "tags": []
   },
   "source": [
    "Fitting and Training"
   ]
  },
  {
   "cell_type": "code",
   "execution_count": 14,
   "id": "985116b3",
   "metadata": {
    "execution": {
     "iopub.execute_input": "2022-06-17T07:47:50.423810Z",
     "iopub.status.busy": "2022-06-17T07:47:50.423075Z",
     "iopub.status.idle": "2022-06-17T07:47:50.424863Z",
     "shell.execute_reply": "2022-06-17T07:47:50.425519Z",
     "shell.execute_reply.started": "2022-06-17T05:59:56.529743Z"
    },
    "papermill": {
     "duration": 0.056488,
     "end_time": "2022-06-17T07:47:50.425888",
     "exception": false,
     "start_time": "2022-06-17T07:47:50.369400",
     "status": "completed"
    },
    "tags": []
   },
   "outputs": [],
   "source": [
    "'''\n",
    "Fits prophet on Business Data:\n",
    "    y = trend + seasonality + holidays\n",
    ":parameter\n",
    "    :param dtf_train: pandas Dataframe with columns 'ds' (dates), \n",
    "             'y' (values), 'cap' (capacity if growth=\"logistic\"), \n",
    "             other additional regressor\n",
    "    :param dtf_test: pandas Dataframe with columns 'ds' (dates), 'y' \n",
    "                     (values), 'cap' (capacity if \n",
    "                      growth=\"logistic\"), \n",
    "                      other additional regressor\n",
    "    :param lst_exog: list - names of variables\n",
    "    :param freq: str - \"D\" daily, \"M\" monthly, \"Y\" annual, \"MS\" \n",
    "                       monthly start ...\n",
    ":return\n",
    "    dtf with predictons and the model\n",
    "'''\n",
    "def fit_prophet(dtf_train, dtf_test, lst_exog=None, model=None, \n",
    "                freq=\"D\", figsize=(15,10)):\n",
    "    ## train\n",
    "    model.fit(dtf_train)\n",
    "    \n",
    "    ## test\n",
    "    dtf_prophet = model.make_future_dataframe(periods=len(dtf_test), \n",
    "                  freq=freq, include_history=True)\n",
    "    dtf_prophet = model.predict(dtf_prophet)\n",
    "    dtf_train = dtf_train.merge(dtf_prophet[[\"ds\",\"yhat\"]], \n",
    "                how=\"left\").rename(columns={'yhat':'model', \n",
    "                'y':'ts'}).set_index(\"ds\")\n",
    "    dtf_test = dtf_test.merge(dtf_prophet[[\"ds\",\"yhat\"]], \n",
    "                how=\"left\").rename(columns={'yhat':'forecast',  \n",
    "                'y':'ts'}).set_index(\"ds\")\n",
    "    \n",
    "    ## evaluate\n",
    "    dtf = dtf_train.append(dtf_test)\n",
    "    dtf = utils_evaluate_forecast(dtf, figsize=figsize, \n",
    "                                  title=\"Prophet\")\n",
    "    return dtf, model"
   ]
  },
  {
   "cell_type": "code",
   "execution_count": 15,
   "id": "f32c5e08",
   "metadata": {
    "execution": {
     "iopub.execute_input": "2022-06-17T07:47:50.516342Z",
     "iopub.status.busy": "2022-06-17T07:47:50.515655Z",
     "iopub.status.idle": "2022-06-17T07:47:53.865420Z",
     "shell.execute_reply": "2022-06-17T07:47:53.866111Z",
     "shell.execute_reply.started": "2022-06-17T05:59:56.54173Z"
    },
    "papermill": {
     "duration": 3.396855,
     "end_time": "2022-06-17T07:47:53.866310",
     "exception": false,
     "start_time": "2022-06-17T07:47:50.469455",
     "status": "completed"
    },
    "tags": []
   },
   "outputs": [
    {
     "name": "stdout",
     "output_type": "stream",
     "text": [
      "Initial log joint probability = -6.61273\n",
      "    Iter      log prob        ||dx||      ||grad||       alpha      alpha0  # evals  Notes \n",
      "      99       654.258      0.040331       1490.97      0.8509      0.8509      130   \n",
      "    Iter      log prob        ||dx||      ||grad||       alpha      alpha0  # evals  Notes \n",
      "     199       707.397    0.00986474       1463.73           1           1      245   \n",
      "    Iter      log prob        ||dx||      ||grad||       alpha      alpha0  # evals  Notes \n",
      "     299       723.912     0.0248464       2562.77           1           1      358   \n",
      "    Iter      log prob        ||dx||      ||grad||       alpha      alpha0  # evals  Notes \n",
      "     399       734.901   0.000800299       579.736           1           1      481   \n",
      "    Iter      log prob        ||dx||      ||grad||       alpha      alpha0  # evals  Notes \n",
      "     499       738.378    0.00179763       507.723           1           1      600   \n",
      "    Iter      log prob        ||dx||      ||grad||       alpha      alpha0  # evals  Notes \n",
      "     599       741.896   0.000220209       467.853       0.315           1      720   \n",
      "    Iter      log prob        ||dx||      ||grad||       alpha      alpha0  # evals  Notes \n",
      "     642       742.162   2.27017e-05       268.107   1.711e-07       0.001      809  LS failed, Hessian reset \n",
      "     699       742.346   0.000187915       166.205      0.3905           1      880   \n",
      "    Iter      log prob        ||dx||      ||grad||       alpha      alpha0  # evals  Notes \n",
      "     799       742.634   1.53546e-05       98.4542           1           1     1017   \n",
      "    Iter      log prob        ||dx||      ||grad||       alpha      alpha0  # evals  Notes \n",
      "     874       742.692   5.97376e-05       125.982   8.749e-07       0.001     1156  LS failed, Hessian reset \n",
      "     899       742.712    2.7784e-05        108.32      0.3259      0.3259     1189   \n",
      "    Iter      log prob        ||dx||      ||grad||       alpha      alpha0  # evals  Notes \n",
      "     999        742.73   1.86577e-05       63.1098      0.3108           1     1312   \n",
      "    Iter      log prob        ||dx||      ||grad||       alpha      alpha0  # evals  Notes \n",
      "    1021        742.73   3.68554e-07       64.4843           1           1     1338   \n",
      "Optimization terminated normally: \n",
      "  Convergence detected: relative gradient magnitude is below tolerance\n"
     ]
    },
    {
     "data": {
      "image/png": "[encoded data removed]",
      "text/plain": [
       "<Figure size 1080x720 with 4 Axes>"
      ]
     },
     "metadata": {
      "needs_background": "light"
     },
     "output_type": "display_data"
    },
    {
     "name": "stdout",
     "output_type": "stream",
     "text": [
      "Training --> Residuals mean: -2.0  | std: 28321.0\n",
      "Test --> Error mean: 1513532.0  | std: 1005241.0  | mae: 1513532.0  | mape: 11.0 %  | mse: 3274696922295.0  | rmse: 1809612.0\n"
     ]
    }
   ],
   "source": [
    "dtf, model = fit_prophet(dtf_train, dtf_test, model=model, freq=\"D\")"
   ]
  },
  {
   "cell_type": "markdown",
   "id": "7bf1e8f1",
   "metadata": {
    "papermill": {
     "duration": 0.045631,
     "end_time": "2022-06-17T07:47:53.958467",
     "exception": false,
     "start_time": "2022-06-17T07:47:53.912836",
     "status": "completed"
    },
    "tags": []
   },
   "source": [
    "# Forecasting"
   ]
  },
  {
   "cell_type": "code",
   "execution_count": 16,
   "id": "3d22fcd5",
   "metadata": {
    "execution": {
     "iopub.execute_input": "2022-06-17T07:47:54.067535Z",
     "iopub.status.busy": "2022-06-17T07:47:54.057601Z",
     "iopub.status.idle": "2022-06-17T07:47:54.070763Z",
     "shell.execute_reply": "2022-06-17T07:47:54.070196Z",
     "shell.execute_reply.started": "2022-06-17T05:59:59.559835Z"
    },
    "papermill": {
     "duration": 0.066362,
     "end_time": "2022-06-17T07:47:54.070927",
     "exception": false,
     "start_time": "2022-06-17T07:47:54.004565",
     "status": "completed"
    },
    "tags": []
   },
   "outputs": [],
   "source": [
    "'''\n",
    "Plot unknown future forecast.\n",
    "'''\n",
    "def utils_plot_forecast(dtf, zoom=30, figsize=(15,5)):\n",
    "    ## interval\n",
    "    dtf[\"residuals\"] = dtf[\"ts\"] - dtf[\"model\"]\n",
    "    dtf[\"conf_int_low\"] = dtf[\"forecast\"] - 1.96*dtf[\"residuals\"].std()\n",
    "    dtf[\"conf_int_up\"] = dtf[\"forecast\"] + 1.96*dtf[\"residuals\"].std()\n",
    "    fig, ax = plt.subplots(nrows=1, ncols=2, figsize=figsize)\n",
    "    \n",
    "    ## entire series\n",
    "    dtf[[\"ts\",\"forecast\"]].plot(color=[\"black\",\"red\"], grid=True, ax=ax[0], title=\"History + Future\")\n",
    "    ax[0].fill_between(x=dtf.index, y1=dtf['conf_int_low'], y2=dtf['conf_int_up'], color='b', alpha=0.3) \n",
    "          \n",
    "    ## focus on last\n",
    "    first_idx = dtf[pd.notnull(dtf[\"forecast\"])].index[0]\n",
    "    first_loc = dtf.index.tolist().index(first_idx)\n",
    "    zoom_idx = dtf.index[first_loc-zoom]\n",
    "    dtf.loc[zoom_idx:][[\"ts\",\"forecast\"]].plot(color=[\"black\",\"red\"], grid=True, ax=ax[1], title=\"Zoom on the last \"+str(zoom)+\" observations\")\n",
    "    ax[1].fill_between(x=dtf.loc[zoom_idx:].index, y1=dtf.loc[zoom_idx:]['conf_int_low'], \n",
    "                       y2=dtf.loc[zoom_idx:]['conf_int_up'], color='b', alpha=0.3)\n",
    "    plt.show()\n",
    "    return dtf[[\"ts\",\"model\",\"residuals\",\"conf_int_low\",\"forecast\",\"conf_int_up\"]]"
   ]
  },
  {
   "cell_type": "code",
   "execution_count": 17,
   "id": "685ea192",
   "metadata": {
    "execution": {
     "iopub.execute_input": "2022-06-17T07:47:54.179175Z",
     "iopub.status.busy": "2022-06-17T07:47:54.171446Z",
     "iopub.status.idle": "2022-06-17T07:47:54.182593Z",
     "shell.execute_reply": "2022-06-17T07:47:54.182059Z",
     "shell.execute_reply.started": "2022-06-17T05:59:59.575518Z"
    },
    "papermill": {
     "duration": 0.065022,
     "end_time": "2022-06-17T07:47:54.182772",
     "exception": false,
     "start_time": "2022-06-17T07:47:54.117750",
     "status": "completed"
    },
    "tags": []
   },
   "outputs": [],
   "source": [
    "'''\n",
    "Forecast unknown future.\n",
    "'''\n",
    "def forecast_lstm(ts, model, pred_ahead=None, end=None, freq=\"D\", zoom=30, figsize=(15,5)):\n",
    "    ## fit\n",
    "    s = model.input_shape[-1]\n",
    "\n",
    "    X, y, scaler = utils_preprocess_ts(ts, scaler=None, exog=None, s=s)\n",
    "    training = model.fit(x=X, y=y, batch_size=1, epochs=90, shuffle=True, verbose=0, validation_split=0.2)\n",
    "\n",
    "    dtf = ts.to_frame(name=\"ts\")\n",
    "    dtf[\"model\"] = utils_fitted_lstm(ts, training.model, scaler, None)\n",
    "    dtf[\"model\"] = dtf[\"model\"].fillna(method='bfill')\n",
    "    \n",
    "    ## index\n",
    "    #index = utils_generate_indexdate(start=ts.index[-1], end=end, n=pred_ahead, freq=freq)\n",
    "    index = utils_generate_indexdate(start=ts.index[-1], end=end, n=pred_ahead, freq=freq)\n",
    "\n",
    "    ## forecast\n",
    "    preds = utils_predict_lstm(ts[-s:], training.model, scaler, pred_ahead=len(index), exog=None)\n",
    "    dtf = dtf.append(pd.DataFrame(data=preds, index=index, columns=[\"forecast\"]))\n",
    "    \n",
    "    ## plot\n",
    "    dtf = utils_plot_forecast(dtf, zoom=zoom)\n",
    "    return dtf\n",
    "'''\n",
    "Forecast unknown future.\n",
    "'''\n",
    "def forecast_prophet(dtf, model, pred_ahead=None, end=None, freq=\"D\", zoom=30, figsize=(15,5)):\n",
    "    ## fit\n",
    "    model.fit(dtf)\n",
    "    \n",
    "    ## index\n",
    "    index = utils_generate_indexdate(start=dtf[\"ds\"].values[-1], end=end, n=pred_ahead, freq=freq)\n",
    "    \n",
    "    ## forecast\n",
    "    dtf_prophet = model.make_future_dataframe(periods=len(index), freq=freq, include_history=True)\n",
    "    dtf_prophet = model.predict(dtf_prophet)\n",
    "    dtf = dtf.merge(dtf_prophet[[\"ds\",\"yhat\"]], how=\"left\").rename(columns={'yhat':'model', 'y':'ts'}).set_index(\"ds\")\n",
    "    preds = pd.DataFrame(data=index, columns=[\"ds\"])\n",
    "    preds = preds.merge(dtf_prophet[[\"ds\",\"yhat\"]], how=\"left\").rename(columns={'yhat':'forecast'}).set_index(\"ds\")\n",
    "    dtf = dtf.append(preds)\n",
    "    \n",
    "    ## plot\n",
    "    dtf = utils_plot_forecast(dtf, zoom=zoom)\n",
    "    return dtf"
   ]
  },
  {
   "cell_type": "markdown",
   "id": "2c9c3290",
   "metadata": {
    "papermill": {
     "duration": 0.047142,
     "end_time": "2022-06-17T07:47:54.276377",
     "exception": false,
     "start_time": "2022-06-17T07:47:54.229235",
     "status": "completed"
    },
    "tags": []
   },
   "source": [
    "LSTM Forecast"
   ]
  },
  {
   "cell_type": "code",
   "execution_count": 18,
   "id": "00a0fb9c",
   "metadata": {
    "execution": {
     "iopub.execute_input": "2022-06-17T07:47:54.377249Z",
     "iopub.status.busy": "2022-06-17T07:47:54.376512Z",
     "iopub.status.idle": "2022-06-17T07:48:07.583963Z",
     "shell.execute_reply": "2022-06-17T07:48:07.584525Z",
     "shell.execute_reply.started": "2022-06-17T05:59:59.596023Z"
    },
    "papermill": {
     "duration": 13.261467,
     "end_time": "2022-06-17T07:48:07.584754",
     "exception": false,
     "start_time": "2022-06-17T07:47:54.323287",
     "status": "completed"
    },
    "tags": []
   },
   "outputs": [
    {
     "name": "stdout",
     "output_type": "stream",
     "text": [
      "--- generating index date --> start: 2020-07-28 00:00:00 | end: 2020-08-27 00:00:00 | len: 31 ---\n"
     ]
    },
    {
     "data": {
      "image/png": "[encoded data removed]",
      "text/plain": [
       "<Figure size 1080x360 with 2 Axes>"
      ]
     },
     "metadata": {
      "needs_background": "light"
     },
     "output_type": "display_data"
    }
   ],
   "source": [
    "model = models.Sequential()\n",
    "model.add(layers.LSTM(input_shape=(1,150), units=50, activation='relu', return_sequences=False))\n",
    "model.add(layers.Dense(1))\n",
    "model.compile(optimizer='adam', loss='mean_absolute_error')\n",
    "lstm_future = forecast_lstm(ts, model, end=\"2020-08-27\")\n",
    "#lstm_future['forecast']"
   ]
  },
  {
   "cell_type": "markdown",
   "id": "a2f16efa",
   "metadata": {
    "papermill": {
     "duration": 0.047781,
     "end_time": "2022-06-17T07:48:07.680978",
     "exception": false,
     "start_time": "2022-06-17T07:48:07.633197",
     "status": "completed"
    },
    "tags": []
   },
   "source": [
    "Prophet Forecast"
   ]
  },
  {
   "cell_type": "code",
   "execution_count": 19,
   "id": "c8c07597",
   "metadata": {
    "execution": {
     "iopub.execute_input": "2022-06-17T07:48:07.785915Z",
     "iopub.status.busy": "2022-06-17T07:48:07.784770Z",
     "iopub.status.idle": "2022-06-17T07:48:11.598082Z",
     "shell.execute_reply": "2022-06-17T07:48:11.598661Z",
     "shell.execute_reply.started": "2022-06-17T06:00:14.908371Z"
    },
    "papermill": {
     "duration": 3.869491,
     "end_time": "2022-06-17T07:48:11.598848",
     "exception": false,
     "start_time": "2022-06-17T07:48:07.729357",
     "status": "completed"
    },
    "tags": []
   },
   "outputs": [
    {
     "name": "stdout",
     "output_type": "stream",
     "text": [
      "Initial log joint probability = -8.12167\n",
      "--- generating index date --> start: 2020-07-28 00:00:00 | end: 2020-08-27 00:00:00 | len: 31 ---\n",
      "    Iter      log prob        ||dx||      ||grad||       alpha      alpha0  # evals  Notes \n",
      "      99        733.37    0.00661807       806.108           1           1      132   \n",
      "    Iter      log prob        ||dx||      ||grad||       alpha      alpha0  # evals  Notes \n",
      "     199       810.216    0.00396834       950.953           1           1      249   \n",
      "    Iter      log prob        ||dx||      ||grad||       alpha      alpha0  # evals  Notes \n",
      "     299       838.988    0.00220166       603.787      0.2867           1      373   \n",
      "    Iter      log prob        ||dx||      ||grad||       alpha      alpha0  # evals  Notes \n",
      "     399        861.59    0.00379308       2035.72      0.3433           1      502   \n",
      "    Iter      log prob        ||dx||      ||grad||       alpha      alpha0  # evals  Notes \n",
      "     499       871.246    0.00138743        297.22           1           1      628   \n",
      "    Iter      log prob        ||dx||      ||grad||       alpha      alpha0  # evals  Notes \n",
      "     599       878.282    0.00182866       516.682           1           1      756   \n",
      "    Iter      log prob        ||dx||      ||grad||       alpha      alpha0  # evals  Notes \n",
      "     699       882.893    0.00140586       749.373      0.4526      0.4526      889   \n",
      "    Iter      log prob        ||dx||      ||grad||       alpha      alpha0  # evals  Notes \n",
      "     799       885.127   0.000169871       398.838           1           1     1018   \n",
      "    Iter      log prob        ||dx||      ||grad||       alpha      alpha0  # evals  Notes \n",
      "     899       886.049   0.000352996       498.333      0.8221      0.8221     1146   \n",
      "    Iter      log prob        ||dx||      ||grad||       alpha      alpha0  # evals  Notes \n",
      "     999       886.626   7.53631e-05        101.61           1           1     1276   \n",
      "    Iter      log prob        ||dx||      ||grad||       alpha      alpha0  # evals  Notes \n",
      "    1099       887.595    0.00181905       547.007           1           1     1392   \n",
      "    Iter      log prob        ||dx||      ||grad||       alpha      alpha0  # evals  Notes \n",
      "    1199       889.421   7.85339e-05        206.69      0.2925      0.2925     1512   \n",
      "    Iter      log prob        ||dx||      ||grad||       alpha      alpha0  # evals  Notes \n",
      "    1299       890.339   0.000182417       313.204           1           1     1628   \n",
      "    Iter      log prob        ||dx||      ||grad||       alpha      alpha0  # evals  Notes \n",
      "    1399       890.925   0.000146528       254.328           1           1     1764   \n",
      "    Iter      log prob        ||dx||      ||grad||       alpha      alpha0  # evals  Notes \n",
      "    1499       891.732   0.000524181       211.239      0.7303      0.7303     1879   \n",
      "    Iter      log prob        ||dx||      ||grad||       alpha      alpha0  # evals  Notes \n",
      "    1522       891.835   2.53231e-06        134.99   5.848e-09       0.001     1956  LS failed, Hessian reset \n",
      "    1599       892.043   0.000163946       195.763           1           1     2062   \n",
      "    Iter      log prob        ||dx||      ||grad||       alpha      alpha0  # evals  Notes \n",
      "    1697       892.375   9.03091e-06        305.32   6.425e-08       0.001     2248  LS failed, Hessian reset \n",
      "    1699       892.376   1.01957e-06       153.388      0.8643      0.8643     2250   \n",
      "    Iter      log prob        ||dx||      ||grad||       alpha      alpha0  # evals  Notes \n",
      "    1783       892.613   1.95582e-06        127.21   5.757e-09       0.001     2403  LS failed, Hessian reset \n",
      "    1799       892.641    0.00014944       615.116           1           1     2423   \n",
      "    Iter      log prob        ||dx||      ||grad||       alpha      alpha0  # evals  Notes \n",
      "    1850       892.675   8.61408e-07       71.8001   6.555e-09       0.001     2538  LS failed, Hessian reset \n",
      "    1899       892.687   0.000282746       149.972      0.8901      0.8901     2602   \n",
      "    Iter      log prob        ||dx||      ||grad||       alpha      alpha0  # evals  Notes \n",
      "    1999        893.39   0.000272117       447.313      0.4412           1     2729   \n",
      "    Iter      log prob        ||dx||      ||grad||       alpha      alpha0  # evals  Notes \n",
      "    2000       893.391    2.3114e-06       168.336   5.167e-09       0.001     2779  LS failed, Hessian reset \n",
      "    2089       893.632   1.00345e-06       109.979   8.073e-09       0.001     2974  LS failed, Hessian reset \n",
      "    2099       893.672   9.88881e-05       142.961      0.5206           1     2987   \n",
      "    Iter      log prob        ||dx||      ||grad||       alpha      alpha0  # evals  Notes \n",
      "    2139       893.731   6.71389e-06       130.282   6.637e-08       0.001     3093  LS failed, Hessian reset \n",
      "    2169       893.744   8.91574e-07       60.6858   4.982e-09       0.001     3181  LS failed, Hessian reset \n",
      "    2196       893.751   3.69581e-06       187.992   3.806e-08       0.001     3262  LS failed, Hessian reset \n",
      "    2199       893.752   1.06016e-05       199.277           1           1     3265   \n",
      "    Iter      log prob        ||dx||      ||grad||       alpha      alpha0  # evals  Notes \n",
      "    2299       893.874    0.00043201       466.978           1           1     3389   \n",
      "    Iter      log prob        ||dx||      ||grad||       alpha      alpha0  # evals  Notes \n",
      "    2399       895.493     0.0219127       4786.48      0.3755           1     3517   \n",
      "    Iter      log prob        ||dx||      ||grad||       alpha      alpha0  # evals  Notes \n",
      "    2499       896.638   2.02322e-05       392.555           1           1     3642   \n",
      "    Iter      log prob        ||dx||      ||grad||       alpha      alpha0  # evals  Notes \n",
      "    2599        897.24    0.00200831       517.016           1           1     3768   \n",
      "    Iter      log prob        ||dx||      ||grad||       alpha      alpha0  # evals  Notes \n",
      "    2678        897.47   1.38639e-06       224.434   5.271e-09       0.001     3907  LS failed, Hessian reset \n",
      "    2699       897.496    1.5282e-05       424.071           1           1     3932   \n",
      "    Iter      log prob        ||dx||      ||grad||       alpha      alpha0  # evals  Notes \n",
      "    2799       897.647   1.90568e-05       262.545      0.5046      0.5046     4062   \n",
      "    Iter      log prob        ||dx||      ||grad||       alpha      alpha0  # evals  Notes \n",
      "    2868       897.707   1.08029e-06       93.9647    3.05e-09       0.001     4192  LS failed, Hessian reset \n",
      "    2899       897.712   6.49143e-06       106.766           1           1     4234   \n",
      "    Iter      log prob        ||dx||      ||grad||       alpha      alpha0  # evals  Notes \n",
      "    2918       897.716   8.88028e-07       153.665   5.212e-09       0.001     4307  LS failed, Hessian reset \n",
      "    2999       897.835   0.000199617       157.964     0.02294           1     4410   \n",
      "    Iter      log prob        ||dx||      ||grad||       alpha      alpha0  # evals  Notes \n",
      "    3003       897.838   1.32486e-06       192.298   1.289e-08       0.001     4466  LS failed, Hessian reset \n",
      "    3099       897.903   2.11759e-05       56.4393      0.3526      0.3526     4594   \n",
      "    Iter      log prob        ||dx||      ||grad||       alpha      alpha0  # evals  Notes \n",
      "    3123       897.907   7.98445e-07       84.5088   3.139e-09       0.001     4679  LS failed, Hessian reset \n",
      "    3199       897.942   6.69276e-05       483.414      0.7981      0.7981     4779   \n",
      "    Iter      log prob        ||dx||      ||grad||       alpha      alpha0  # evals  Notes \n",
      "    3257       898.121   6.15059e-06       1013.44   4.725e-09       0.001     4897  LS failed, Hessian reset \n",
      "    3294       898.203   1.27191e-06       188.095   8.763e-09       0.001     4986  LS failed, Hessian reset \n",
      "    3299       898.205   1.50966e-05        263.22           1           1     4991   \n",
      "    Iter      log prob        ||dx||      ||grad||       alpha      alpha0  # evals  Notes \n",
      "    3399       898.264    2.0521e-06        50.706           1           1     5123   \n",
      "    Iter      log prob        ||dx||      ||grad||       alpha      alpha0  # evals  Notes \n",
      "    3499       898.285   1.25565e-05       196.924      0.7524      0.7524     5244   \n",
      "    Iter      log prob        ||dx||      ||grad||       alpha      alpha0  # evals  Notes \n",
      "    3599       898.299   2.39646e-06       78.7678           1           1     5369   \n",
      "    Iter      log prob        ||dx||      ||grad||       alpha      alpha0  # evals  Notes \n",
      "    3698       898.309   7.53686e-07       60.4985   2.836e-09       0.001     5558  LS failed, Hessian reset \n",
      "    3699       898.309   1.70984e-05       222.047         100           1     5561   \n",
      "    Iter      log prob        ||dx||      ||grad||       alpha      alpha0  # evals  Notes \n",
      "    3799        898.32   1.08394e-05        58.259      0.2817           1     5686   \n",
      "    Iter      log prob        ||dx||      ||grad||       alpha      alpha0  # evals  Notes \n",
      "    3859       898.334   6.31917e-07       99.9533   3.596e-09       0.001     5817  LS failed, Hessian reset \n",
      "    3899       898.345   1.31528e-06       69.7047      0.4051      0.4051     5870   \n",
      "    Iter      log prob        ||dx||      ||grad||       alpha      alpha0  # evals  Notes \n",
      "    3954       898.354   2.06142e-06       206.088   2.025e-08       0.001     6001  LS failed, Hessian reset \n",
      "    3999       898.359   1.99008e-06       59.3457           1           1     6060   \n",
      "    Iter      log prob        ||dx||      ||grad||       alpha      alpha0  # evals  Notes \n",
      "    4099       898.391   0.000826702       510.651       1.779      0.1779     6186   \n",
      "    Iter      log prob        ||dx||      ||grad||       alpha      alpha0  # evals  Notes \n",
      "    4199       898.776   0.000741455       438.577       0.367      0.0367     6309   \n",
      "    Iter      log prob        ||dx||      ||grad||       alpha      alpha0  # evals  Notes \n",
      "    4299       899.308   0.000898886       262.757           1           1     6445   \n",
      "    Iter      log prob        ||dx||      ||grad||       alpha      alpha0  # evals  Notes \n",
      "    4399       899.724    0.00278726       1525.35      0.3873           1     6573   \n",
      "    Iter      log prob        ||dx||      ||grad||       alpha      alpha0  # evals  Notes \n",
      "    4499       899.863   1.41636e-05       201.392           1           1     6699   \n",
      "    Iter      log prob        ||dx||      ||grad||       alpha      alpha0  # evals  Notes \n",
      "    4524       899.885   4.63141e-07       95.0383   6.378e-09       0.001     6790  LS failed, Hessian reset \n",
      "    4535       899.889   8.66618e-07       54.9975   2.233e-09       0.001     6844  LS failed, Hessian reset \n",
      "    4599        899.92   0.000344631       287.606           1           1     6929   \n",
      "    Iter      log prob        ||dx||      ||grad||       alpha      alpha0  # evals  Notes \n",
      "    4699       900.006   3.32183e-05        82.088           1           1     7055   \n",
      "    Iter      log prob        ||dx||      ||grad||       alpha      alpha0  # evals  Notes \n",
      "    4703       900.007   8.41696e-07        147.26   1.188e-08       0.001     7105  LS failed, Hessian reset \n",
      "    4719       900.013   5.95565e-07       116.394       3e-09       0.001     7174  LS failed, Hessian reset \n",
      "    4769       900.025    8.8654e-07       143.321   2.554e-09       0.001     7295  LS failed, Hessian reset \n",
      "    4799       900.033   6.07906e-07       111.595      0.1895           1     7340   \n",
      "    Iter      log prob        ||dx||      ||grad||       alpha      alpha0  # evals  Notes \n",
      "    4883       900.063   1.05493e-06       174.955   1.213e-08       0.001     7490  LS failed, Hessian reset \n",
      "    4899       900.073   2.27454e-05       268.567           1           1     7511   \n",
      "    Iter      log prob        ||dx||      ||grad||       alpha      alpha0  # evals  Notes \n",
      "    4938       900.077    3.6269e-07       78.6551   3.669e-09       0.001     7606  LS failed, Hessian reset \n",
      "    4967       900.079   2.68509e-07       69.8177   3.506e-09       0.001     7689  LS failed, Hessian reset \n",
      "    4999        900.08   2.51882e-06       50.7144           1           1     7729   \n",
      "    Iter      log prob        ||dx||      ||grad||       alpha      alpha0  # evals  Notes \n",
      "    5069       900.095   1.29558e-06       180.782   1.295e-08       0.001     7869  LS failed, Hessian reset \n",
      "    5099       900.096    4.6021e-06       72.4474           1           1     7916   \n",
      "    Iter      log prob        ||dx||      ||grad||       alpha      alpha0  # evals  Notes \n",
      "    5103       900.096   3.95326e-07       78.4799   2.772e-09       0.001     7975  LS failed, Hessian reset \n",
      "    5199       900.108   5.39917e-05       168.512      0.5537      0.5537     8097   \n",
      "    Iter      log prob        ||dx||      ||grad||       alpha      alpha0  # evals  Notes \n",
      "    5239       900.191   5.18007e-07       121.296    4.75e-09       0.001     8205  LS failed, Hessian reset \n",
      "    5299       900.276   1.11074e-05       168.604      0.7962      0.7962     8288   \n",
      "    Iter      log prob        ||dx||      ||grad||       alpha      alpha0  # evals  Notes \n",
      "    5304       900.278   5.09556e-07        49.274   2.197e-09       0.001     8340  LS failed, Hessian reset \n",
      "    5325       900.281   1.03143e-06       159.338   9.869e-09       0.001     8413  LS failed, Hessian reset \n",
      "    5370       900.284   4.81743e-07       109.932   3.675e-09       0.001     8519  LS failed, Hessian reset \n",
      "    5399       900.287   3.43067e-06       66.3391      0.7374      0.7374     8561   \n",
      "    Iter      log prob        ||dx||      ||grad||       alpha      alpha0  # evals  Notes \n",
      "    5424       900.289   2.97003e-07       49.6219   2.401e-09       0.001     8639  LS failed, Hessian reset \n",
      "    5499       900.291   3.39107e-06       187.143      0.5033      0.5033     8734   \n",
      "    Iter      log prob        ||dx||      ||grad||       alpha      alpha0  # evals  Notes \n",
      "    5599       900.315   8.18159e-06       131.701      0.3241           1     8863   \n",
      "    Iter      log prob        ||dx||      ||grad||       alpha      alpha0  # evals  Notes \n",
      "    5604       900.316   2.34789e-06       146.385   3.038e-08       0.001     8915  LS failed, Hessian reset \n",
      "    5656       900.318   1.54647e-06       68.9672   3.043e-08       0.001     9035  LS failed, Hessian reset \n",
      "    5699       900.318   1.23213e-08       50.8427      0.1852      0.1852     9092   \n",
      "    Iter      log prob        ||dx||      ||grad||       alpha      alpha0  # evals  Notes \n",
      "    5799       900.337   0.000193252       231.666           1           1     9218   \n",
      "    Iter      log prob        ||dx||      ||grad||       alpha      alpha0  # evals  Notes \n",
      "    5899       900.398   3.37876e-05       145.233      0.2464      0.2464     9352   \n",
      "    Iter      log prob        ||dx||      ||grad||       alpha      alpha0  # evals  Notes \n",
      "    5999       900.509   0.000509793       389.413           1           1     9478   \n",
      "    Iter      log prob        ||dx||      ||grad||       alpha      alpha0  # evals  Notes \n",
      "    6099       900.584   1.21752e-05       452.969           1           1     9607   \n",
      "    Iter      log prob        ||dx||      ||grad||       alpha      alpha0  # evals  Notes \n",
      "    6199       900.594   2.29169e-05       269.079           1           1     9723   \n",
      "    Iter      log prob        ||dx||      ||grad||       alpha      alpha0  # evals  Notes \n",
      "    6299        900.61   3.84505e-05       81.9605      0.8292     0.08292     9856   \n",
      "    Iter      log prob        ||dx||      ||grad||       alpha      alpha0  # evals  Notes \n",
      "    6399       900.633   1.72833e-06       55.8234      0.5823      0.5823     9991   \n",
      "    Iter      log prob        ||dx||      ||grad||       alpha      alpha0  # evals  Notes \n",
      "    6480       900.637   3.77887e-08       44.3872      0.4133      0.4133    10101   \n",
      "Optimization terminated normally: \n",
      "  Convergence detected: relative gradient magnitude is below tolerance\n"
     ]
    },
    {
     "data": {
      "image/png": "[encoded data removed]",
      "text/plain": [
       "<Figure size 1080x360 with 2 Axes>"
      ]
     },
     "metadata": {
      "needs_background": "light"
     },
     "output_type": "display_data"
    }
   ],
   "source": [
    "model = Prophet(growth=\"linear\", changepoints=None, \n",
    "                n_changepoints=25, \n",
    "                seasonality_mode=\"multiplicative\",\n",
    "                yearly_seasonality=\"auto\", \n",
    "                weekly_seasonality=\"auto\", daily_seasonality=True,\n",
    "                holidays=None)\n",
    "dfpr = ts.reset_index().rename(columns={\"Date\":\"ds\", \n",
    "                                                   \"cases\":\"y\"})\n",
    "prophet_future = forecast_prophet(dfpr, model, end=\"2020-08-27\")\n",
    "prophet_future['forecast'] = prophet_future['forecast'].astype('float32')\n",
    "#prophet_future['forecast']"
   ]
  },
  {
   "cell_type": "code",
   "execution_count": 20,
   "id": "3c41ecfb",
   "metadata": {
    "execution": {
     "iopub.execute_input": "2022-06-17T07:48:11.708291Z",
     "iopub.status.busy": "2022-06-17T07:48:11.707557Z",
     "iopub.status.idle": "2022-06-17T07:48:11.710761Z",
     "shell.execute_reply": "2022-06-17T07:48:11.710080Z",
     "shell.execute_reply.started": "2022-06-17T06:00:18.754472Z"
    },
    "papermill": {
     "duration": 0.061003,
     "end_time": "2022-06-17T07:48:11.710907",
     "exception": false,
     "start_time": "2022-06-17T07:48:11.649904",
     "status": "completed"
    },
    "tags": []
   },
   "outputs": [],
   "source": [
    "pr_df = prophet_future['forecast'].to_frame()\n",
    "lstm_df = lstm_future['forecast'].to_frame()\n",
    "\n",
    "lstm_df = lstm_df.tail(31)\n",
    "pr_df = pr_df.tail(31)"
   ]
  },
  {
   "cell_type": "code",
   "execution_count": 21,
   "id": "4ed2d8b7",
   "metadata": {
    "execution": {
     "iopub.execute_input": "2022-06-17T07:48:11.827076Z",
     "iopub.status.busy": "2022-06-17T07:48:11.826377Z",
     "iopub.status.idle": "2022-06-17T07:48:11.831030Z",
     "shell.execute_reply": "2022-06-17T07:48:11.830398Z",
     "shell.execute_reply.started": "2022-06-17T06:00:18.765733Z"
    },
    "papermill": {
     "duration": 0.069684,
     "end_time": "2022-06-17T07:48:11.831184",
     "exception": false,
     "start_time": "2022-06-17T07:48:11.761500",
     "status": "completed"
    },
    "tags": []
   },
   "outputs": [
    {
     "data": {
      "text/html": [
       "<div>\n",
       "<style scoped>\n",
       "    .dataframe tbody tr th:only-of-type {\n",
       "        vertical-align: middle;\n",
       "    }\n",
       "\n",
       "    .dataframe tbody tr th {\n",
       "        vertical-align: top;\n",
       "    }\n",
       "\n",
       "    .dataframe thead th {\n",
       "        text-align: right;\n",
       "    }\n",
       "</style>\n",
       "<table border=\"1\" class=\"dataframe\">\n",
       "  <thead>\n",
       "    <tr style=\"text-align: right;\">\n",
       "      <th></th>\n",
       "      <th>forecast</th>\n",
       "    </tr>\n",
       "  </thead>\n",
       "  <tbody>\n",
       "    <tr>\n",
       "      <th>count</th>\n",
       "      <td>31.0</td>\n",
       "    </tr>\n",
       "    <tr>\n",
       "      <th>mean</th>\n",
       "      <td>24687254.0</td>\n",
       "    </tr>\n",
       "    <tr>\n",
       "      <th>std</th>\n",
       "      <td>4978128.5</td>\n",
       "    </tr>\n",
       "    <tr>\n",
       "      <th>min</th>\n",
       "      <td>17500570.0</td>\n",
       "    </tr>\n",
       "    <tr>\n",
       "      <th>25%</th>\n",
       "      <td>20485910.0</td>\n",
       "    </tr>\n",
       "    <tr>\n",
       "      <th>50%</th>\n",
       "      <td>24101620.0</td>\n",
       "    </tr>\n",
       "    <tr>\n",
       "      <th>75%</th>\n",
       "      <td>28519041.0</td>\n",
       "    </tr>\n",
       "    <tr>\n",
       "      <th>max</th>\n",
       "      <td>34055764.0</td>\n",
       "    </tr>\n",
       "  </tbody>\n",
       "</table>\n",
       "</div>"
      ],
      "text/plain": [
       "         forecast\n",
       "count        31.0\n",
       "mean   24687254.0\n",
       "std     4978128.5\n",
       "min    17500570.0\n",
       "25%    20485910.0\n",
       "50%    24101620.0\n",
       "75%    28519041.0\n",
       "max    34055764.0"
      ]
     },
     "execution_count": 21,
     "metadata": {},
     "output_type": "execute_result"
    }
   ],
   "source": [
    "lstm_df.describe()"
   ]
  },
  {
   "cell_type": "code",
   "execution_count": 22,
   "id": "1f1f1f43",
   "metadata": {
    "execution": {
     "iopub.execute_input": "2022-06-17T07:48:11.940936Z",
     "iopub.status.busy": "2022-06-17T07:48:11.937347Z",
     "iopub.status.idle": "2022-06-17T07:48:11.952184Z",
     "shell.execute_reply": "2022-06-17T07:48:11.951507Z",
     "shell.execute_reply.started": "2022-06-17T06:00:18.786529Z"
    },
    "papermill": {
     "duration": 0.068831,
     "end_time": "2022-06-17T07:48:11.952326",
     "exception": false,
     "start_time": "2022-06-17T07:48:11.883495",
     "status": "completed"
    },
    "tags": []
   },
   "outputs": [
    {
     "data": {
      "text/html": [
       "<div>\n",
       "<style scoped>\n",
       "    .dataframe tbody tr th:only-of-type {\n",
       "        vertical-align: middle;\n",
       "    }\n",
       "\n",
       "    .dataframe tbody tr th {\n",
       "        vertical-align: top;\n",
       "    }\n",
       "\n",
       "    .dataframe thead th {\n",
       "        text-align: right;\n",
       "    }\n",
       "</style>\n",
       "<table border=\"1\" class=\"dataframe\">\n",
       "  <thead>\n",
       "    <tr style=\"text-align: right;\">\n",
       "      <th></th>\n",
       "      <th>forecast</th>\n",
       "    </tr>\n",
       "  </thead>\n",
       "  <tbody>\n",
       "    <tr>\n",
       "      <th>count</th>\n",
       "      <td>31.0</td>\n",
       "    </tr>\n",
       "    <tr>\n",
       "      <th>mean</th>\n",
       "      <td>19422128.0</td>\n",
       "    </tr>\n",
       "    <tr>\n",
       "      <th>std</th>\n",
       "      <td>1863403.0</td>\n",
       "    </tr>\n",
       "    <tr>\n",
       "      <th>min</th>\n",
       "      <td>16281563.0</td>\n",
       "    </tr>\n",
       "    <tr>\n",
       "      <th>25%</th>\n",
       "      <td>17827698.0</td>\n",
       "    </tr>\n",
       "    <tr>\n",
       "      <th>50%</th>\n",
       "      <td>19376298.0</td>\n",
       "    </tr>\n",
       "    <tr>\n",
       "      <th>75%</th>\n",
       "      <td>20933533.0</td>\n",
       "    </tr>\n",
       "    <tr>\n",
       "      <th>max</th>\n",
       "      <td>22494026.0</td>\n",
       "    </tr>\n",
       "  </tbody>\n",
       "</table>\n",
       "</div>"
      ],
      "text/plain": [
       "         forecast\n",
       "count        31.0\n",
       "mean   19422128.0\n",
       "std     1863403.0\n",
       "min    16281563.0\n",
       "25%    17827698.0\n",
       "50%    19376298.0\n",
       "75%    20933533.0\n",
       "max    22494026.0"
      ]
     },
     "execution_count": 22,
     "metadata": {},
     "output_type": "execute_result"
    }
   ],
   "source": [
    "pr_df.describe()"
   ]
  },
  {
   "cell_type": "markdown",
   "id": "3673e839",
   "metadata": {
    "papermill": {
     "duration": 0.060945,
     "end_time": "2022-06-17T07:48:12.064324",
     "exception": false,
     "start_time": "2022-06-17T07:48:12.003379",
     "status": "completed"
    },
    "tags": []
   },
   "source": [
    "# Forecast Comparison"
   ]
  },
  {
   "cell_type": "code",
   "execution_count": 23,
   "id": "84e693e0",
   "metadata": {
    "execution": {
     "iopub.execute_input": "2022-06-17T07:48:12.191554Z",
     "iopub.status.busy": "2022-06-17T07:48:12.190884Z",
     "iopub.status.idle": "2022-06-17T07:48:12.343831Z",
     "shell.execute_reply": "2022-06-17T07:48:12.342980Z",
     "shell.execute_reply.started": "2022-06-17T06:00:18.803834Z"
    },
    "papermill": {
     "duration": 0.217259,
     "end_time": "2022-06-17T07:48:12.343988",
     "exception": false,
     "start_time": "2022-06-17T07:48:12.126729",
     "status": "completed"
    },
    "tags": []
   },
   "outputs": [
    {
     "name": "stdout",
     "output_type": "stream",
     "text": [
      "188\n"
     ]
    },
    {
     "data": {
      "text/html": [
       "        <script type=\"text/javascript\">\n",
       "        window.PlotlyConfig = {MathJaxConfig: 'local'};\n",
       "        if (window.MathJax) {MathJax.Hub.Config({SVG: {font: \"STIX-Web\"}});}\n",
       "        if (typeof require !== 'undefined') {\n",
       "        require.undef(\"plotly\");\n",
       "        requirejs.config({\n",
       "            paths: {\n",
       "                'plotly': ['https://cdn.plot.ly/plotly-2.9.0.min']\n",
       "            }\n",
       "        });\n",
       "        require(['plotly'], function(Plotly) {\n",
       "            window._Plotly = Plotly;\n",
       "        });\n",
       "        }\n",
       "        </script>\n",
       "        "
      ]
     },
     "metadata": {},
     "output_type": "display_data"
    },
    {
     "data": {
      "text/html": [
       "<div>                            <div id=\"e0e48cf9-b5bf-461e-85cf-b283cae4cdfa\" class=\"plotly-graph-div\" style=\"height:525px; width:100%;\"></div>            <script type=\"text/javascript\">                require([\"plotly\"], function(Plotly) {                    window.PLOTLYENV=window.PLOTLYENV || {};                                    if (document.getElementById(\"e0e48cf9-b5bf-461e-85cf-b283cae4cdfa\")) {                    Plotly.newPlot(                        \"e0e48cf9-b5bf-461e-85cf-b283cae4cdfa\",                        [{\"mode\":\"lines\",\"name\":\"Data\",\"x\":[\"2020-01-22T00:00:00\",\"2020-01-23T00:00:00\",\"2020-01-24T00:00:00\",\"2020-01-25T00:00:00\",\"2020-01-26T00:00:00\",\"2020-01-27T00:00:00\",\"2020-01-28T00:00:00\",\"2020-01-29T00:00:00\",\"2020-01-30T00:00:00\",\"2020-01-31T00:00:00\",\"2020-02-01T00:00:00\",\"2020-02-02T00:00:00\",\"2020-02-03T00:00:00\",\"2020-02-04T00:00:00\",\"2020-02-05T00:00:00\",\"2020-02-06T00:00:00\",\"2020-02-07T00:00:00\",\"2020-02-08T00:00:00\",\"2020-02-09T00:00:00\",\"2020-02-10T00:00:00\",\"2020-02-11T00:00:00\",\"2020-02-12T00:00:00\",\"2020-02-13T00:00:00\",\"2020-02-14T00:00:00\",\"2020-02-15T00:00:00\",\"2020-02-16T00:00:00\",\"2020-02-17T00:00:00\",\"2020-02-18T00:00:00\",\"2020-02-19T00:00:00\",\"2020-02-20T00:00:00\",\"2020-02-21T00:00:00\",\"2020-02-22T00:00:00\",\"2020-02-23T00:00:00\",\"2020-02-24T00:00:00\",\"2020-02-25T00:00:00\",\"2020-02-26T00:00:00\",\"2020-02-27T00:00:00\",\"2020-02-28T00:00:00\",\"2020-02-29T00:00:00\",\"2020-03-01T00:00:00\",\"2020-03-02T00:00:00\",\"2020-03-03T00:00:00\",\"2020-03-04T00:00:00\",\"2020-03-05T00:00:00\",\"2020-03-06T00:00:00\",\"2020-03-07T00:00:00\",\"2020-03-08T00:00:00\",\"2020-03-09T00:00:00\",\"2020-03-10T00:00:00\",\"2020-03-11T00:00:00\",\"2020-03-12T00:00:00\",\"2020-03-13T00:00:00\",\"2020-03-14T00:00:00\",\"2020-03-15T00:00:00\",\"2020-03-16T00:00:00\",\"2020-03-17T00:00:00\",\"2020-03-18T00:00:00\",\"2020-03-19T00:00:00\",\"2020-03-20T00:00:00\",\"2020-03-21T00:00:00\",\"2020-03-22T00:00:00\",\"2020-03-23T00:00:00\",\"2020-03-24T00:00:00\",\"2020-03-25T00:00:00\",\"2020-03-26T00:00:00\",\"2020-03-27T00:00:00\",\"2020-03-28T00:00:00\",\"2020-03-29T00:00:00\",\"2020-03-30T00:00:00\",\"2020-03-31T00:00:00\",\"2020-04-01T00:00:00\",\"2020-04-02T00:00:00\",\"2020-04-03T00:00:00\",\"2020-04-04T00:00:00\",\"2020-04-05T00:00:00\",\"2020-04-06T00:00:00\",\"2020-04-07T00:00:00\",\"2020-04-08T00:00:00\",\"2020-04-09T00:00:00\",\"2020-04-10T00:00:00\",\"2020-04-11T00:00:00\",\"2020-04-12T00:00:00\",\"2020-04-13T00:00:00\",\"2020-04-14T00:00:00\",\"2020-04-15T00:00:00\",\"2020-04-16T00:00:00\",\"2020-04-17T00:00:00\",\"2020-04-18T00:00:00\",\"2020-04-19T00:00:00\",\"2020-04-20T00:00:00\",\"2020-04-21T00:00:00\",\"2020-04-22T00:00:00\",\"2020-04-23T00:00:00\",\"2020-04-24T00:00:00\",\"2020-04-25T00:00:00\",\"2020-04-26T00:00:00\",\"2020-04-27T00:00:00\",\"2020-04-28T00:00:00\",\"2020-04-29T00:00:00\",\"2020-04-30T00:00:00\",\"2020-05-01T00:00:00\",\"2020-05-02T00:00:00\",\"2020-05-03T00:00:00\",\"2020-05-04T00:00:00\",\"2020-05-05T00:00:00\",\"2020-05-06T00:00:00\",\"2020-05-07T00:00:00\",\"2020-05-08T00:00:00\",\"2020-05-09T00:00:00\",\"2020-05-10T00:00:00\",\"2020-05-11T00:00:00\",\"2020-05-12T00:00:00\",\"2020-05-13T00:00:00\",\"2020-05-14T00:00:00\",\"2020-05-15T00:00:00\",\"2020-05-16T00:00:00\",\"2020-05-17T00:00:00\",\"2020-05-18T00:00:00\",\"2020-05-19T00:00:00\",\"2020-05-20T00:00:00\",\"2020-05-21T00:00:00\",\"2020-05-22T00:00:00\",\"2020-05-23T00:00:00\",\"2020-05-24T00:00:00\",\"2020-05-25T00:00:00\",\"2020-05-26T00:00:00\",\"2020-05-27T00:00:00\",\"2020-05-28T00:00:00\",\"2020-05-29T00:00:00\",\"2020-05-30T00:00:00\",\"2020-05-31T00:00:00\",\"2020-06-01T00:00:00\",\"2020-06-02T00:00:00\",\"2020-06-03T00:00:00\",\"2020-06-04T00:00:00\",\"2020-06-05T00:00:00\",\"2020-06-06T00:00:00\",\"2020-06-07T00:00:00\",\"2020-06-08T00:00:00\",\"2020-06-09T00:00:00\",\"2020-06-10T00:00:00\",\"2020-06-11T00:00:00\",\"2020-06-12T00:00:00\",\"2020-06-13T00:00:00\",\"2020-06-14T00:00:00\",\"2020-06-15T00:00:00\",\"2020-06-16T00:00:00\",\"2020-06-17T00:00:00\",\"2020-06-18T00:00:00\",\"2020-06-19T00:00:00\",\"2020-06-20T00:00:00\",\"2020-06-21T00:00:00\",\"2020-06-22T00:00:00\",\"2020-06-23T00:00:00\",\"2020-06-24T00:00:00\",\"2020-06-25T00:00:00\",\"2020-06-26T00:00:00\",\"2020-06-27T00:00:00\",\"2020-06-28T00:00:00\",\"2020-06-29T00:00:00\",\"2020-06-30T00:00:00\",\"2020-07-01T00:00:00\",\"2020-07-02T00:00:00\",\"2020-07-03T00:00:00\",\"2020-07-04T00:00:00\",\"2020-07-05T00:00:00\",\"2020-07-06T00:00:00\",\"2020-07-07T00:00:00\",\"2020-07-08T00:00:00\",\"2020-07-09T00:00:00\",\"2020-07-10T00:00:00\",\"2020-07-11T00:00:00\",\"2020-07-12T00:00:00\",\"2020-07-13T00:00:00\",\"2020-07-14T00:00:00\",\"2020-07-15T00:00:00\",\"2020-07-16T00:00:00\",\"2020-07-17T00:00:00\",\"2020-07-18T00:00:00\",\"2020-07-19T00:00:00\",\"2020-07-20T00:00:00\",\"2020-07-21T00:00:00\",\"2020-07-22T00:00:00\",\"2020-07-23T00:00:00\",\"2020-07-24T00:00:00\",\"2020-07-25T00:00:00\",\"2020-07-26T00:00:00\",\"2020-07-27T00:00:00\"],\"y\":[557.0,657.0,944.0,1437.0,2120.0,2929.0,5580.0,6169.0,8237.0,9927.0,12038.0,16787.0,19887.0,23899.0,27644.0,30806.0,34339.0,37070.0,40098.0,42636.0,44679.0,46565.0,60209.0,66694.0,68770.0,70883.0,72819.0,74613.0,75034.0,75582.0,76212.0,77974.0,78299.0,78867.0,79722.0,80686.0,82045.0,83444.0,85338.0,87718.0,89697.0,92306.0,94645.0,97473.0,101406.0,105531.0,109459.0,113657.0,118563.0,126263.0,132386.0,146578.0,157699.0,169125.0,183946.0,200078.0,219755.0,247063.0,278176.0,310251.0,345433.0,388458.0,429708.0,481042.0,544117.0,609207.0,678881.0,735547.0,800835.0,878030.0,960359.0,1043197.0,1127152.0,1186062.0,1256140.0,1330099.0,1399534.0,1483046.0,1569683.0,1654922.0,1728874.0,1847899.0,1919068.0,2002832.0,2081236.0,2175702.0,2263474.0,2340187.0,2416405.0,2492312.0,2567844.0,2649363.0,2732496.0,2816011.0,2899100.0,2969635.0,3040482.0,3116176.0,3193572.0,3276733.0,3365563.0,3444394.0,3518630.0,3595908.0,3675616.0,3766335.0,3854756.0,3945286.0,4029426.0,4104519.0,4180811.0,4265664.0,4350066.0,4445253.0,4541464.0,4635541.0,4713616.0,4802788.0,4899348.0,5004362.0,5110134.0,5217658.0,5321668.0,5414805.0,5502722.0,5595671.0,5698282.0,5818044.0,5939813.0,6074812.0,6177133.0,6276626.0,6400968.0,6512259.0,6650441.0,6783961.0,6913631.0,7024511.0,7127748.0,7254053.0,7390801.0,7526053.0,7654030.0,7787556.0,7919630.0,8044358.0,8188881.0,8331982.0,8474883.0,8656187.0,8841822.0,8934817.0,9076674.0,9244843.0,9416162.0,9595282.0,9788430.0,9965013.0,10132790.0,10285721.0,10469023.0,10684384.0,10888627.0,11091571.0,11281234.0,11467138.0,11635054.0,11843953.0,12059757.0,12283542.0,12516588.0,12729700.0,12921201.0,13117113.0,13337621.0,13567252.0,13811761.0,14049457.0,14285013.0,14497100.0,14705852.0,14947899.0,15223663.0,15503574.0,15787412.0,16035876.0,16248779.0,16483540.0],\"type\":\"scatter\"},{\"mode\":\"lines\",\"name\":\"Prophet\",\"x\":[\"2020-07-28T00:00:00\",\"2020-07-29T00:00:00\",\"2020-07-30T00:00:00\",\"2020-07-31T00:00:00\",\"2020-08-01T00:00:00\",\"2020-08-02T00:00:00\",\"2020-08-03T00:00:00\",\"2020-08-04T00:00:00\",\"2020-08-05T00:00:00\",\"2020-08-06T00:00:00\",\"2020-08-07T00:00:00\",\"2020-08-08T00:00:00\",\"2020-08-09T00:00:00\",\"2020-08-10T00:00:00\",\"2020-08-11T00:00:00\",\"2020-08-12T00:00:00\",\"2020-08-13T00:00:00\",\"2020-08-14T00:00:00\",\"2020-08-15T00:00:00\",\"2020-08-16T00:00:00\",\"2020-08-17T00:00:00\",\"2020-08-18T00:00:00\",\"2020-08-19T00:00:00\",\"2020-08-20T00:00:00\",\"2020-08-21T00:00:00\",\"2020-08-22T00:00:00\",\"2020-08-23T00:00:00\",\"2020-08-24T00:00:00\",\"2020-08-25T00:00:00\",\"2020-08-26T00:00:00\",\"2020-08-27T00:00:00\",\"2020-08-28T00:00:00\"],\"y\":[16281563.0,16514116.0,16756626.0,17005276.0,17222328.0,17404266.0,17589706.0,17710188.0,17945208.0,18190976.0,18443324.0,18661348.0,18841334.0,19025152.0,19138812.0,19376298.0,19625326.0,19881374.0,20100368.0,20278400.0,20460600.0,20567436.0,20807390.0,21059676.0,21319422.0,21539388.0,21715468.0,21896048.0,21996062.0,22238480.0,22494026.0],\"type\":\"scatter\"},{\"mode\":\"lines\",\"name\":\"LSTM\",\"x\":[\"2020-07-28T00:00:00\",\"2020-07-29T00:00:00\",\"2020-07-30T00:00:00\",\"2020-07-31T00:00:00\",\"2020-08-01T00:00:00\",\"2020-08-02T00:00:00\",\"2020-08-03T00:00:00\",\"2020-08-04T00:00:00\",\"2020-08-05T00:00:00\",\"2020-08-06T00:00:00\",\"2020-08-07T00:00:00\",\"2020-08-08T00:00:00\",\"2020-08-09T00:00:00\",\"2020-08-10T00:00:00\",\"2020-08-11T00:00:00\",\"2020-08-12T00:00:00\",\"2020-08-13T00:00:00\",\"2020-08-14T00:00:00\",\"2020-08-15T00:00:00\",\"2020-08-16T00:00:00\",\"2020-08-17T00:00:00\",\"2020-08-18T00:00:00\",\"2020-08-19T00:00:00\",\"2020-08-20T00:00:00\",\"2020-08-21T00:00:00\",\"2020-08-22T00:00:00\",\"2020-08-23T00:00:00\",\"2020-08-24T00:00:00\",\"2020-08-25T00:00:00\",\"2020-08-26T00:00:00\",\"2020-08-27T00:00:00\",\"2020-08-28T00:00:00\"],\"y\":[17500570.0,17855628.0,18227152.0,18622046.0,19016808.0,19415042.0,19848714.0,20260452.0,20711368.0,21164914.0,21616590.0,22091030.0,22570514.0,23056976.0,23586444.0,24101620.0,24641984.0,25202172.0,25781398.0,26370694.0,26959304.0,27561760.0,28197112.0,28840970.0,29522976.0,30216876.0,30901754.0,31666710.0,32474896.0,33264700.0,34055764.0],\"type\":\"scatter\"},{\"mode\":\"lines\",\"name\":\"Actual\",\"x\":[\"2020-07-28T00:00:00\",\"2020-07-29T00:00:00\",\"2020-07-30T00:00:00\",\"2020-07-31T00:00:00\",\"2020-08-01T00:00:00\",\"2020-08-02T00:00:00\",\"2020-08-03T00:00:00\",\"2020-08-04T00:00:00\",\"2020-08-05T00:00:00\",\"2020-08-06T00:00:00\",\"2020-08-07T00:00:00\",\"2020-08-08T00:00:00\",\"2020-08-09T00:00:00\",\"2020-08-10T00:00:00\",\"2020-08-11T00:00:00\",\"2020-08-12T00:00:00\",\"2020-08-13T00:00:00\",\"2020-08-14T00:00:00\",\"2020-08-15T00:00:00\",\"2020-08-16T00:00:00\",\"2020-08-17T00:00:00\",\"2020-08-18T00:00:00\",\"2020-08-19T00:00:00\",\"2020-08-20T00:00:00\",\"2020-08-21T00:00:00\",\"2020-08-22T00:00:00\",\"2020-08-23T00:00:00\",\"2020-08-24T00:00:00\",\"2020-08-25T00:00:00\",\"2020-08-26T00:00:00\",\"2020-08-27T00:00:00\",\"2020-08-28T00:00:00\"],\"y\":[16748037.0,17019134.0,17299389.0,17588527.0,17834626.0,18065684.0,18271120.0,18536641.0,18812644.0,19098847.0,19382041.0,19646766.0,19880241.0,20114450.0,20379705.0,20654868.0,20944778.0,21252624.0,21500382.0,21710883.0,21924836.0,22183744.0,22461712.0,22732115.0,22995159.0,23256755.0,23460302.0,23689067.0,23933865.0,24215776.0,24502703.0,24787146.0],\"type\":\"scatter\"}],                        {\"title\":{\"text\":\"Covid-19 cases\"},\"xaxis\":{\"title\":{\"text\":\"Date\"}},\"yaxis\":{\"title\":{\"text\":\"Confirmed\"}},\"template\":{\"data\":{\"bar\":[{\"error_x\":{\"color\":\"#2a3f5f\"},\"error_y\":{\"color\":\"#2a3f5f\"},\"marker\":{\"line\":{\"color\":\"#E5ECF6\",\"width\":0.5},\"pattern\":{\"fillmode\":\"overlay\",\"size\":10,\"solidity\":0.2}},\"type\":\"bar\"}],\"barpolar\":[{\"marker\":{\"line\":{\"color\":\"#E5ECF6\",\"width\":0.5},\"pattern\":{\"fillmode\":\"overlay\",\"size\":10,\"solidity\":0.2}},\"type\":\"barpolar\"}],\"carpet\":[{\"aaxis\":{\"endlinecolor\":\"#2a3f5f\",\"gridcolor\":\"white\",\"linecolor\":\"white\",\"minorgridcolor\":\"white\",\"startlinecolor\":\"#2a3f5f\"},\"baxis\":{\"endlinecolor\":\"#2a3f5f\",\"gridcolor\":\"white\",\"linecolor\":\"white\",\"minorgridcolor\":\"white\",\"startlinecolor\":\"#2a3f5f\"},\"type\":\"carpet\"}],\"choropleth\":[{\"colorbar\":{\"outlinewidth\":0,\"ticks\":\"\"},\"type\":\"choropleth\"}],\"contour\":[{\"colorbar\":{\"outlinewidth\":0,\"ticks\":\"\"},\"colorscale\":[[0.0,\"#0d0887\"],[0.1111111111111111,\"#46039f\"],[0.2222222222222222,\"#7201a8\"],[0.3333333333333333,\"#9c179e\"],[0.4444444444444444,\"#bd3786\"],[0.5555555555555556,\"#d8576b\"],[0.6666666666666666,\"#ed7953\"],[0.7777777777777778,\"#fb9f3a\"],[0.8888888888888888,\"#fdca26\"],[1.0,\"#f0f921\"]],\"type\":\"contour\"}],\"contourcarpet\":[{\"colorbar\":{\"outlinewidth\":0,\"ticks\":\"\"},\"type\":\"contourcarpet\"}],\"heatmap\":[{\"colorbar\":{\"outlinewidth\":0,\"ticks\":\"\"},\"colorscale\":[[0.0,\"#0d0887\"],[0.1111111111111111,\"#46039f\"],[0.2222222222222222,\"#7201a8\"],[0.3333333333333333,\"#9c179e\"],[0.4444444444444444,\"#bd3786\"],[0.5555555555555556,\"#d8576b\"],[0.6666666666666666,\"#ed7953\"],[0.7777777777777778,\"#fb9f3a\"],[0.8888888888888888,\"#fdca26\"],[1.0,\"#f0f921\"]],\"type\":\"heatmap\"}],\"heatmapgl\":[{\"colorbar\":{\"outlinewidth\":0,\"ticks\":\"\"},\"colorscale\":[[0.0,\"#0d0887\"],[0.1111111111111111,\"#46039f\"],[0.2222222222222222,\"#7201a8\"],[0.3333333333333333,\"#9c179e\"],[0.4444444444444444,\"#bd3786\"],[0.5555555555555556,\"#d8576b\"],[0.6666666666666666,\"#ed7953\"],[0.7777777777777778,\"#fb9f3a\"],[0.8888888888888888,\"#fdca26\"],[1.0,\"#f0f921\"]],\"type\":\"heatmapgl\"}],\"histogram\":[{\"marker\":{\"pattern\":{\"fillmode\":\"overlay\",\"size\":10,\"solidity\":0.2}},\"type\":\"histogram\"}],\"histogram2d\":[{\"colorbar\":{\"outlinewidth\":0,\"ticks\":\"\"},\"colorscale\":[[0.0,\"#0d0887\"],[0.1111111111111111,\"#46039f\"],[0.2222222222222222,\"#7201a8\"],[0.3333333333333333,\"#9c179e\"],[0.4444444444444444,\"#bd3786\"],[0.5555555555555556,\"#d8576b\"],[0.6666666666666666,\"#ed7953\"],[0.7777777777777778,\"#fb9f3a\"],[0.8888888888888888,\"#fdca26\"],[1.0,\"#f0f921\"]],\"type\":\"histogram2d\"}],\"histogram2dcontour\":[{\"colorbar\":{\"outlinewidth\":0,\"ticks\":\"\"},\"colorscale\":[[0.0,\"#0d0887\"],[0.1111111111111111,\"#46039f\"],[0.2222222222222222,\"#7201a8\"],[0.3333333333333333,\"#9c179e\"],[0.4444444444444444,\"#bd3786\"],[0.5555555555555556,\"#d8576b\"],[0.6666666666666666,\"#ed7953\"],[0.7777777777777778,\"#fb9f3a\"],[0.8888888888888888,\"#fdca26\"],[1.0,\"#f0f921\"]],\"type\":\"histogram2dcontour\"}],\"mesh3d\":[{\"colorbar\":{\"outlinewidth\":0,\"ticks\":\"\"},\"type\":\"mesh3d\"}],\"parcoords\":[{\"line\":{\"colorbar\":{\"outlinewidth\":0,\"ticks\":\"\"}},\"type\":\"parcoords\"}],\"pie\":[{\"automargin\":true,\"type\":\"pie\"}],\"scatter\":[{\"marker\":{\"colorbar\":{\"outlinewidth\":0,\"ticks\":\"\"}},\"type\":\"scatter\"}],\"scatter3d\":[{\"line\":{\"colorbar\":{\"outlinewidth\":0,\"ticks\":\"\"}},\"marker\":{\"colorbar\":{\"outlinewidth\":0,\"ticks\":\"\"}},\"type\":\"scatter3d\"}],\"scattercarpet\":[{\"marker\":{\"colorbar\":{\"outlinewidth\":0,\"ticks\":\"\"}},\"type\":\"scattercarpet\"}],\"scattergeo\":[{\"marker\":{\"colorbar\":{\"outlinewidth\":0,\"ticks\":\"\"}},\"type\":\"scattergeo\"}],\"scattergl\":[{\"marker\":{\"colorbar\":{\"outlinewidth\":0,\"ticks\":\"\"}},\"type\":\"scattergl\"}],\"scattermapbox\":[{\"marker\":{\"colorbar\":{\"outlinewidth\":0,\"ticks\":\"\"}},\"type\":\"scattermapbox\"}],\"scatterpolar\":[{\"marker\":{\"colorbar\":{\"outlinewidth\":0,\"ticks\":\"\"}},\"type\":\"scatterpolar\"}],\"scatterpolargl\":[{\"marker\":{\"colorbar\":{\"outlinewidth\":0,\"ticks\":\"\"}},\"type\":\"scatterpolargl\"}],\"scatterternary\":[{\"marker\":{\"colorbar\":{\"outlinewidth\":0,\"ticks\":\"\"}},\"type\":\"scatterternary\"}],\"surface\":[{\"colorbar\":{\"outlinewidth\":0,\"ticks\":\"\"},\"colorscale\":[[0.0,\"#0d0887\"],[0.1111111111111111,\"#46039f\"],[0.2222222222222222,\"#7201a8\"],[0.3333333333333333,\"#9c179e\"],[0.4444444444444444,\"#bd3786\"],[0.5555555555555556,\"#d8576b\"],[0.6666666666666666,\"#ed7953\"],[0.7777777777777778,\"#fb9f3a\"],[0.8888888888888888,\"#fdca26\"],[1.0,\"#f0f921\"]],\"type\":\"surface\"}],\"table\":[{\"cells\":{\"fill\":{\"color\":\"#EBF0F8\"},\"line\":{\"color\":\"white\"}},\"header\":{\"fill\":{\"color\":\"#C8D4E3\"},\"line\":{\"color\":\"white\"}},\"type\":\"table\"}]},\"layout\":{\"annotationdefaults\":{\"arrowcolor\":\"#2a3f5f\",\"arrowhead\":0,\"arrowwidth\":1},\"autotypenumbers\":\"strict\",\"coloraxis\":{\"colorbar\":{\"outlinewidth\":0,\"ticks\":\"\"}},\"colorscale\":{\"diverging\":[[0,\"#8e0152\"],[0.1,\"#c51b7d\"],[0.2,\"#de77ae\"],[0.3,\"#f1b6da\"],[0.4,\"#fde0ef\"],[0.5,\"#f7f7f7\"],[0.6,\"#e6f5d0\"],[0.7,\"#b8e186\"],[0.8,\"#7fbc41\"],[0.9,\"#4d9221\"],[1,\"#276419\"]],\"sequential\":[[0.0,\"#0d0887\"],[0.1111111111111111,\"#46039f\"],[0.2222222222222222,\"#7201a8\"],[0.3333333333333333,\"#9c179e\"],[0.4444444444444444,\"#bd3786\"],[0.5555555555555556,\"#d8576b\"],[0.6666666666666666,\"#ed7953\"],[0.7777777777777778,\"#fb9f3a\"],[0.8888888888888888,\"#fdca26\"],[1.0,\"#f0f921\"]],\"sequentialminus\":[[0.0,\"#0d0887\"],[0.1111111111111111,\"#46039f\"],[0.2222222222222222,\"#7201a8\"],[0.3333333333333333,\"#9c179e\"],[0.4444444444444444,\"#bd3786\"],[0.5555555555555556,\"#d8576b\"],[0.6666666666666666,\"#ed7953\"],[0.7777777777777778,\"#fb9f3a\"],[0.8888888888888888,\"#fdca26\"],[1.0,\"#f0f921\"]]},\"colorway\":[\"#636efa\",\"#EF553B\",\"#00cc96\",\"#ab63fa\",\"#FFA15A\",\"#19d3f3\",\"#FF6692\",\"#B6E880\",\"#FF97FF\",\"#FECB52\"],\"font\":{\"color\":\"#2a3f5f\"},\"geo\":{\"bgcolor\":\"white\",\"lakecolor\":\"white\",\"landcolor\":\"#E5ECF6\",\"showlakes\":true,\"showland\":true,\"subunitcolor\":\"white\"},\"hoverlabel\":{\"align\":\"left\"},\"hovermode\":\"closest\",\"mapbox\":{\"style\":\"light\"},\"paper_bgcolor\":\"white\",\"plot_bgcolor\":\"#E5ECF6\",\"polar\":{\"angularaxis\":{\"gridcolor\":\"white\",\"linecolor\":\"white\",\"ticks\":\"\"},\"bgcolor\":\"#E5ECF6\",\"radialaxis\":{\"gridcolor\":\"white\",\"linecolor\":\"white\",\"ticks\":\"\"}},\"scene\":{\"xaxis\":{\"backgroundcolor\":\"#E5ECF6\",\"gridcolor\":\"white\",\"gridwidth\":2,\"linecolor\":\"white\",\"showbackground\":true,\"ticks\":\"\",\"zerolinecolor\":\"white\"},\"yaxis\":{\"backgroundcolor\":\"#E5ECF6\",\"gridcolor\":\"white\",\"gridwidth\":2,\"linecolor\":\"white\",\"showbackground\":true,\"ticks\":\"\",\"zerolinecolor\":\"white\"},\"zaxis\":{\"backgroundcolor\":\"#E5ECF6\",\"gridcolor\":\"white\",\"gridwidth\":2,\"linecolor\":\"white\",\"showbackground\":true,\"ticks\":\"\",\"zerolinecolor\":\"white\"}},\"shapedefaults\":{\"line\":{\"color\":\"#2a3f5f\"}},\"ternary\":{\"aaxis\":{\"gridcolor\":\"white\",\"linecolor\":\"white\",\"ticks\":\"\"},\"baxis\":{\"gridcolor\":\"white\",\"linecolor\":\"white\",\"ticks\":\"\"},\"bgcolor\":\"#E5ECF6\",\"caxis\":{\"gridcolor\":\"white\",\"linecolor\":\"white\",\"ticks\":\"\"}},\"title\":{\"x\":0.05},\"xaxis\":{\"automargin\":true,\"gridcolor\":\"white\",\"linecolor\":\"white\",\"ticks\":\"\",\"title\":{\"standoff\":15},\"zerolinecolor\":\"white\",\"zerolinewidth\":2},\"yaxis\":{\"automargin\":true,\"gridcolor\":\"white\",\"linecolor\":\"white\",\"ticks\":\"\",\"title\":{\"standoff\":15},\"zerolinecolor\":\"white\",\"zerolinewidth\":2}}}},                        {\"responsive\": true}                    ).then(function(){\n",
       "                            \n",
       "var gd = document.getElementById('e0e48cf9-b5bf-461e-85cf-b283cae4cdfa');\n",
       "var x = new MutationObserver(function (mutations, observer) {{\n",
       "        var display = window.getComputedStyle(gd).display;\n",
       "        if (!display || display === 'none') {{\n",
       "            console.log([gd, 'removed!']);\n",
       "            Plotly.purge(gd);\n",
       "            observer.disconnect();\n",
       "        }}\n",
       "}});\n",
       "\n",
       "// Listen for the removal of the full notebook cells\n",
       "var notebookContainer = gd.closest('#notebook-container');\n",
       "if (notebookContainer) {{\n",
       "    x.observe(notebookContainer, {childList: true});\n",
       "}}\n",
       "\n",
       "// Listen for the clearing of the current output cell\n",
       "var outputEl = gd.closest('.output');\n",
       "if (outputEl) {{\n",
       "    x.observe(outputEl, {childList: true});\n",
       "}}\n",
       "\n",
       "                        })                };                });            </script>        </div>"
      ]
     },
     "metadata": {},
     "output_type": "display_data"
    }
   ],
   "source": [
    "y_data = df_uni2.values\n",
    "y_data = y_data.reshape((-1,1))\n",
    "#y_data\n",
    "split_percent = 0.80\n",
    "split = len(y_data) - 32\n",
    "print(split)\n",
    "y_train = y_data[:split]\n",
    "y_test = y_data[split:]\n",
    "\n",
    "date_train = df_uni2.index.values[:split]\n",
    "date_test = df_uni2.index.values[split:]\n",
    "\n",
    "y_train = y_train.reshape((-1))\n",
    "y_test = y_test.reshape((-1))\n",
    "\n",
    "pr = prophet_future['forecast'].tail(31).values\n",
    "ls = lstm_future['forecast'].tail(31).values\n",
    "\n",
    "trace1 = go.Scatter(\n",
    "    x = date_train,\n",
    "    y = y_train,\n",
    "    mode = 'lines',\n",
    "    name = 'Data'\n",
    ")\n",
    "trace2 = go.Scatter(\n",
    "    x = date_test,\n",
    "    y = pr,\n",
    "    mode = 'lines',\n",
    "    name = 'Prophet'\n",
    ")\n",
    "trace3 = go.Scatter(\n",
    "    x = date_test,\n",
    "    y = y_test,\n",
    "    mode='lines',\n",
    "    name = 'Actual'\n",
    ")\n",
    "trace4 = go.Scatter(\n",
    "    x = date_test,\n",
    "    y = ls,\n",
    "    mode = 'lines',\n",
    "    name = 'LSTM'\n",
    ")\n",
    "layout = go.Layout(\n",
    "    title = \"Covid-19 cases\",\n",
    "    xaxis = {'title' : \"Date\"},\n",
    "    yaxis = {'title' : \"Confirmed\"}\n",
    ")\n",
    "fig = go.Figure(data=[trace1, trace2, trace4, trace3], layout=layout)\n",
    "fig.show()"
   ]
  }
 ],
 "metadata": {
  "kernelspec": {
   "display_name": "Python 3",
   "language": "python",
   "name": "python3"
  },
  "language_info": {
   "codemirror_mode": {
    "name": "ipython",
    "version": 3
   },
   "file_extension": ".py",
   "mimetype": "text/x-python",
   "name": "python",
   "nbconvert_exporter": "python",
   "pygments_lexer": "ipython3",
   "version": "3.7.12"
  },
  "papermill": {
   "default_parameters": {},
   "duration": 79.699312,
   "end_time": "2022-06-17T07:48:15.331810",
   "environment_variables": {},
   "exception": null,
   "input_path": "__notebook__.ipynb",
   "output_path": "__notebook__.ipynb",
   "parameters": {},
   "start_time": "2022-06-17T07:46:55.632498",
   "version": "2.3.3"
  }
 },
 "nbformat": 4,
 "nbformat_minor": 5
}
